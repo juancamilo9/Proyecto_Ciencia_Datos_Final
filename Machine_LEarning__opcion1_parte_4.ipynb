{
  "nbformat": 4,
  "nbformat_minor": 0,
  "metadata": {
    "colab": {
      "provenance": [],
      "authorship_tag": "ABX9TyP7LlpiavCrqMgLWXqRNo6l",
      "include_colab_link": true
    },
    "kernelspec": {
      "name": "python3",
      "display_name": "Python 3"
    },
    "language_info": {
      "name": "python"
    }
  },
  "cells": [
    {
      "cell_type": "markdown",
      "metadata": {
        "id": "view-in-github",
        "colab_type": "text"
      },
      "source": [
        "<a href=\"https://colab.research.google.com/github/juancamilo9/Proyecto_Ciencia_Datos_Final/blob/master/Machine_LEarning__opcion1_parte_4.ipynb\" target=\"_parent\"><img src=\"https://colab.research.google.com/assets/colab-badge.svg\" alt=\"Open In Colab\"/></a>"
      ]
    },
    {
      "cell_type": "markdown",
      "source": [
        "# Datos para admision en universidad\n",
        "\n",
        "---\n",
        "\n",
        "**Fuente de datos** : https://www.kaggle.com/datasets/akshaydattatraykhare/data-for-admission-in-the-university?resource=download\n",
        "\n",
        "**Breve descripción de datos** : Este conjunto de datos contiene información con respecto a puntajes obtenidos en diferentes examenes, y ranking o posicionamineto de la universidad a la que se aspira.\n",
        "\n",
        "**¿Cuál es el objetivo?** : predecir si es aceptado o no en una universidad\n",
        "\n",
        "**¿Este es un problema de clasificación o regresión?** : regresión\n",
        "\n",
        "**¿Cuántas características hay?**: tiene 9 caracteristicas, todas númericas\n",
        "\n",
        "**¿Cuántas filas de datos hay?** : 400 entradas\n",
        "\n",
        "**¿Qué retos, si es que hay alguno, prevén en la limpieza, exploración o modelización con este conjunto de datos?** : Escalonamiento de datos"
      ],
      "metadata": {
        "id": "Rs-2JGOSIHeI"
      }
    },
    {
      "cell_type": "code",
      "source": [
        "import pandas as pd\n",
        "filename = '/content/adm_data.csv'\n",
        "\n",
        "df = pd.read_csv(filename)\n",
        "df.head()"
      ],
      "metadata": {
        "colab": {
          "base_uri": "https://localhost:8080/",
          "height": 206
        },
        "id": "KaWVe6KPJXxQ",
        "outputId": "22d671c4-9793-4584-bdee-3319aa7c6422"
      },
      "execution_count": null,
      "outputs": [
        {
          "output_type": "execute_result",
          "data": {
            "text/plain": [
              "   Serial No.  GRE Score  TOEFL Score  University Rating  SOP  LOR   CGPA  \\\n",
              "0           1        337          118                  4  4.5   4.5  9.65   \n",
              "1           2        324          107                  4  4.0   4.5  8.87   \n",
              "2           3        316          104                  3  3.0   3.5  8.00   \n",
              "3           4        322          110                  3  3.5   2.5  8.67   \n",
              "4           5        314          103                  2  2.0   3.0  8.21   \n",
              "\n",
              "   Research  Chance of Admit   \n",
              "0         1              0.92  \n",
              "1         1              0.76  \n",
              "2         1              0.72  \n",
              "3         1              0.80  \n",
              "4         0              0.65  "
            ],
            "text/html": [
              "\n",
              "  <div id=\"df-75b67df3-7775-44d8-b70d-2b61e9fd63c6\">\n",
              "    <div class=\"colab-df-container\">\n",
              "      <div>\n",
              "<style scoped>\n",
              "    .dataframe tbody tr th:only-of-type {\n",
              "        vertical-align: middle;\n",
              "    }\n",
              "\n",
              "    .dataframe tbody tr th {\n",
              "        vertical-align: top;\n",
              "    }\n",
              "\n",
              "    .dataframe thead th {\n",
              "        text-align: right;\n",
              "    }\n",
              "</style>\n",
              "<table border=\"1\" class=\"dataframe\">\n",
              "  <thead>\n",
              "    <tr style=\"text-align: right;\">\n",
              "      <th></th>\n",
              "      <th>Serial No.</th>\n",
              "      <th>GRE Score</th>\n",
              "      <th>TOEFL Score</th>\n",
              "      <th>University Rating</th>\n",
              "      <th>SOP</th>\n",
              "      <th>LOR</th>\n",
              "      <th>CGPA</th>\n",
              "      <th>Research</th>\n",
              "      <th>Chance of Admit</th>\n",
              "    </tr>\n",
              "  </thead>\n",
              "  <tbody>\n",
              "    <tr>\n",
              "      <th>0</th>\n",
              "      <td>1</td>\n",
              "      <td>337</td>\n",
              "      <td>118</td>\n",
              "      <td>4</td>\n",
              "      <td>4.5</td>\n",
              "      <td>4.5</td>\n",
              "      <td>9.65</td>\n",
              "      <td>1</td>\n",
              "      <td>0.92</td>\n",
              "    </tr>\n",
              "    <tr>\n",
              "      <th>1</th>\n",
              "      <td>2</td>\n",
              "      <td>324</td>\n",
              "      <td>107</td>\n",
              "      <td>4</td>\n",
              "      <td>4.0</td>\n",
              "      <td>4.5</td>\n",
              "      <td>8.87</td>\n",
              "      <td>1</td>\n",
              "      <td>0.76</td>\n",
              "    </tr>\n",
              "    <tr>\n",
              "      <th>2</th>\n",
              "      <td>3</td>\n",
              "      <td>316</td>\n",
              "      <td>104</td>\n",
              "      <td>3</td>\n",
              "      <td>3.0</td>\n",
              "      <td>3.5</td>\n",
              "      <td>8.00</td>\n",
              "      <td>1</td>\n",
              "      <td>0.72</td>\n",
              "    </tr>\n",
              "    <tr>\n",
              "      <th>3</th>\n",
              "      <td>4</td>\n",
              "      <td>322</td>\n",
              "      <td>110</td>\n",
              "      <td>3</td>\n",
              "      <td>3.5</td>\n",
              "      <td>2.5</td>\n",
              "      <td>8.67</td>\n",
              "      <td>1</td>\n",
              "      <td>0.80</td>\n",
              "    </tr>\n",
              "    <tr>\n",
              "      <th>4</th>\n",
              "      <td>5</td>\n",
              "      <td>314</td>\n",
              "      <td>103</td>\n",
              "      <td>2</td>\n",
              "      <td>2.0</td>\n",
              "      <td>3.0</td>\n",
              "      <td>8.21</td>\n",
              "      <td>0</td>\n",
              "      <td>0.65</td>\n",
              "    </tr>\n",
              "  </tbody>\n",
              "</table>\n",
              "</div>\n",
              "      <button class=\"colab-df-convert\" onclick=\"convertToInteractive('df-75b67df3-7775-44d8-b70d-2b61e9fd63c6')\"\n",
              "              title=\"Convert this dataframe to an interactive table.\"\n",
              "              style=\"display:none;\">\n",
              "        \n",
              "  <svg xmlns=\"http://www.w3.org/2000/svg\" height=\"24px\"viewBox=\"0 0 24 24\"\n",
              "       width=\"24px\">\n",
              "    <path d=\"M0 0h24v24H0V0z\" fill=\"none\"/>\n",
              "    <path d=\"M18.56 5.44l.94 2.06.94-2.06 2.06-.94-2.06-.94-.94-2.06-.94 2.06-2.06.94zm-11 1L8.5 8.5l.94-2.06 2.06-.94-2.06-.94L8.5 2.5l-.94 2.06-2.06.94zm10 10l.94 2.06.94-2.06 2.06-.94-2.06-.94-.94-2.06-.94 2.06-2.06.94z\"/><path d=\"M17.41 7.96l-1.37-1.37c-.4-.4-.92-.59-1.43-.59-.52 0-1.04.2-1.43.59L10.3 9.45l-7.72 7.72c-.78.78-.78 2.05 0 2.83L4 21.41c.39.39.9.59 1.41.59.51 0 1.02-.2 1.41-.59l7.78-7.78 2.81-2.81c.8-.78.8-2.07 0-2.86zM5.41 20L4 18.59l7.72-7.72 1.47 1.35L5.41 20z\"/>\n",
              "  </svg>\n",
              "      </button>\n",
              "      \n",
              "  <style>\n",
              "    .colab-df-container {\n",
              "      display:flex;\n",
              "      flex-wrap:wrap;\n",
              "      gap: 12px;\n",
              "    }\n",
              "\n",
              "    .colab-df-convert {\n",
              "      background-color: #E8F0FE;\n",
              "      border: none;\n",
              "      border-radius: 50%;\n",
              "      cursor: pointer;\n",
              "      display: none;\n",
              "      fill: #1967D2;\n",
              "      height: 32px;\n",
              "      padding: 0 0 0 0;\n",
              "      width: 32px;\n",
              "    }\n",
              "\n",
              "    .colab-df-convert:hover {\n",
              "      background-color: #E2EBFA;\n",
              "      box-shadow: 0px 1px 2px rgba(60, 64, 67, 0.3), 0px 1px 3px 1px rgba(60, 64, 67, 0.15);\n",
              "      fill: #174EA6;\n",
              "    }\n",
              "\n",
              "    [theme=dark] .colab-df-convert {\n",
              "      background-color: #3B4455;\n",
              "      fill: #D2E3FC;\n",
              "    }\n",
              "\n",
              "    [theme=dark] .colab-df-convert:hover {\n",
              "      background-color: #434B5C;\n",
              "      box-shadow: 0px 1px 3px 1px rgba(0, 0, 0, 0.15);\n",
              "      filter: drop-shadow(0px 1px 2px rgba(0, 0, 0, 0.3));\n",
              "      fill: #FFFFFF;\n",
              "    }\n",
              "  </style>\n",
              "\n",
              "      <script>\n",
              "        const buttonEl =\n",
              "          document.querySelector('#df-75b67df3-7775-44d8-b70d-2b61e9fd63c6 button.colab-df-convert');\n",
              "        buttonEl.style.display =\n",
              "          google.colab.kernel.accessAllowed ? 'block' : 'none';\n",
              "\n",
              "        async function convertToInteractive(key) {\n",
              "          const element = document.querySelector('#df-75b67df3-7775-44d8-b70d-2b61e9fd63c6');\n",
              "          const dataTable =\n",
              "            await google.colab.kernel.invokeFunction('convertToInteractive',\n",
              "                                                     [key], {});\n",
              "          if (!dataTable) return;\n",
              "\n",
              "          const docLinkHtml = 'Like what you see? Visit the ' +\n",
              "            '<a target=\"_blank\" href=https://colab.research.google.com/notebooks/data_table.ipynb>data table notebook</a>'\n",
              "            + ' to learn more about interactive tables.';\n",
              "          element.innerHTML = '';\n",
              "          dataTable['output_type'] = 'display_data';\n",
              "          await google.colab.output.renderOutput(dataTable, element);\n",
              "          const docLink = document.createElement('div');\n",
              "          docLink.innerHTML = docLinkHtml;\n",
              "          element.appendChild(docLink);\n",
              "        }\n",
              "      </script>\n",
              "    </div>\n",
              "  </div>\n",
              "  "
            ]
          },
          "metadata": {},
          "execution_count": 1
        }
      ]
    },
    {
      "cell_type": "code",
      "source": [
        "df.describe()"
      ],
      "metadata": {
        "colab": {
          "base_uri": "https://localhost:8080/",
          "height": 300
        },
        "id": "12T9Jfe0RAVI",
        "outputId": "4c6ebcce-158d-4f5f-a55b-f75dd58a332b"
      },
      "execution_count": null,
      "outputs": [
        {
          "output_type": "execute_result",
          "data": {
            "text/plain": [
              "       Serial No.   GRE Score  TOEFL Score  University Rating         SOP  \\\n",
              "count  400.000000  400.000000   400.000000         400.000000  400.000000   \n",
              "mean   200.500000  316.807500   107.410000           3.087500    3.400000   \n",
              "std    115.614301   11.473646     6.069514           1.143728    1.006869   \n",
              "min      1.000000  290.000000    92.000000           1.000000    1.000000   \n",
              "25%    100.750000  308.000000   103.000000           2.000000    2.500000   \n",
              "50%    200.500000  317.000000   107.000000           3.000000    3.500000   \n",
              "75%    300.250000  325.000000   112.000000           4.000000    4.000000   \n",
              "max    400.000000  340.000000   120.000000           5.000000    5.000000   \n",
              "\n",
              "             LOR         CGPA    Research  Chance of Admit   \n",
              "count  400.000000  400.000000  400.000000        400.000000  \n",
              "mean     3.452500    8.598925    0.547500          0.724350  \n",
              "std      0.898478    0.596317    0.498362          0.142609  \n",
              "min      1.000000    6.800000    0.000000          0.340000  \n",
              "25%      3.000000    8.170000    0.000000          0.640000  \n",
              "50%      3.500000    8.610000    1.000000          0.730000  \n",
              "75%      4.000000    9.062500    1.000000          0.830000  \n",
              "max      5.000000    9.920000    1.000000          0.970000  "
            ],
            "text/html": [
              "\n",
              "  <div id=\"df-0cd17ebe-f15d-4546-8fd4-c11b340b4830\">\n",
              "    <div class=\"colab-df-container\">\n",
              "      <div>\n",
              "<style scoped>\n",
              "    .dataframe tbody tr th:only-of-type {\n",
              "        vertical-align: middle;\n",
              "    }\n",
              "\n",
              "    .dataframe tbody tr th {\n",
              "        vertical-align: top;\n",
              "    }\n",
              "\n",
              "    .dataframe thead th {\n",
              "        text-align: right;\n",
              "    }\n",
              "</style>\n",
              "<table border=\"1\" class=\"dataframe\">\n",
              "  <thead>\n",
              "    <tr style=\"text-align: right;\">\n",
              "      <th></th>\n",
              "      <th>Serial No.</th>\n",
              "      <th>GRE Score</th>\n",
              "      <th>TOEFL Score</th>\n",
              "      <th>University Rating</th>\n",
              "      <th>SOP</th>\n",
              "      <th>LOR</th>\n",
              "      <th>CGPA</th>\n",
              "      <th>Research</th>\n",
              "      <th>Chance of Admit</th>\n",
              "    </tr>\n",
              "  </thead>\n",
              "  <tbody>\n",
              "    <tr>\n",
              "      <th>count</th>\n",
              "      <td>400.000000</td>\n",
              "      <td>400.000000</td>\n",
              "      <td>400.000000</td>\n",
              "      <td>400.000000</td>\n",
              "      <td>400.000000</td>\n",
              "      <td>400.000000</td>\n",
              "      <td>400.000000</td>\n",
              "      <td>400.000000</td>\n",
              "      <td>400.000000</td>\n",
              "    </tr>\n",
              "    <tr>\n",
              "      <th>mean</th>\n",
              "      <td>200.500000</td>\n",
              "      <td>316.807500</td>\n",
              "      <td>107.410000</td>\n",
              "      <td>3.087500</td>\n",
              "      <td>3.400000</td>\n",
              "      <td>3.452500</td>\n",
              "      <td>8.598925</td>\n",
              "      <td>0.547500</td>\n",
              "      <td>0.724350</td>\n",
              "    </tr>\n",
              "    <tr>\n",
              "      <th>std</th>\n",
              "      <td>115.614301</td>\n",
              "      <td>11.473646</td>\n",
              "      <td>6.069514</td>\n",
              "      <td>1.143728</td>\n",
              "      <td>1.006869</td>\n",
              "      <td>0.898478</td>\n",
              "      <td>0.596317</td>\n",
              "      <td>0.498362</td>\n",
              "      <td>0.142609</td>\n",
              "    </tr>\n",
              "    <tr>\n",
              "      <th>min</th>\n",
              "      <td>1.000000</td>\n",
              "      <td>290.000000</td>\n",
              "      <td>92.000000</td>\n",
              "      <td>1.000000</td>\n",
              "      <td>1.000000</td>\n",
              "      <td>1.000000</td>\n",
              "      <td>6.800000</td>\n",
              "      <td>0.000000</td>\n",
              "      <td>0.340000</td>\n",
              "    </tr>\n",
              "    <tr>\n",
              "      <th>25%</th>\n",
              "      <td>100.750000</td>\n",
              "      <td>308.000000</td>\n",
              "      <td>103.000000</td>\n",
              "      <td>2.000000</td>\n",
              "      <td>2.500000</td>\n",
              "      <td>3.000000</td>\n",
              "      <td>8.170000</td>\n",
              "      <td>0.000000</td>\n",
              "      <td>0.640000</td>\n",
              "    </tr>\n",
              "    <tr>\n",
              "      <th>50%</th>\n",
              "      <td>200.500000</td>\n",
              "      <td>317.000000</td>\n",
              "      <td>107.000000</td>\n",
              "      <td>3.000000</td>\n",
              "      <td>3.500000</td>\n",
              "      <td>3.500000</td>\n",
              "      <td>8.610000</td>\n",
              "      <td>1.000000</td>\n",
              "      <td>0.730000</td>\n",
              "    </tr>\n",
              "    <tr>\n",
              "      <th>75%</th>\n",
              "      <td>300.250000</td>\n",
              "      <td>325.000000</td>\n",
              "      <td>112.000000</td>\n",
              "      <td>4.000000</td>\n",
              "      <td>4.000000</td>\n",
              "      <td>4.000000</td>\n",
              "      <td>9.062500</td>\n",
              "      <td>1.000000</td>\n",
              "      <td>0.830000</td>\n",
              "    </tr>\n",
              "    <tr>\n",
              "      <th>max</th>\n",
              "      <td>400.000000</td>\n",
              "      <td>340.000000</td>\n",
              "      <td>120.000000</td>\n",
              "      <td>5.000000</td>\n",
              "      <td>5.000000</td>\n",
              "      <td>5.000000</td>\n",
              "      <td>9.920000</td>\n",
              "      <td>1.000000</td>\n",
              "      <td>0.970000</td>\n",
              "    </tr>\n",
              "  </tbody>\n",
              "</table>\n",
              "</div>\n",
              "      <button class=\"colab-df-convert\" onclick=\"convertToInteractive('df-0cd17ebe-f15d-4546-8fd4-c11b340b4830')\"\n",
              "              title=\"Convert this dataframe to an interactive table.\"\n",
              "              style=\"display:none;\">\n",
              "        \n",
              "  <svg xmlns=\"http://www.w3.org/2000/svg\" height=\"24px\"viewBox=\"0 0 24 24\"\n",
              "       width=\"24px\">\n",
              "    <path d=\"M0 0h24v24H0V0z\" fill=\"none\"/>\n",
              "    <path d=\"M18.56 5.44l.94 2.06.94-2.06 2.06-.94-2.06-.94-.94-2.06-.94 2.06-2.06.94zm-11 1L8.5 8.5l.94-2.06 2.06-.94-2.06-.94L8.5 2.5l-.94 2.06-2.06.94zm10 10l.94 2.06.94-2.06 2.06-.94-2.06-.94-.94-2.06-.94 2.06-2.06.94z\"/><path d=\"M17.41 7.96l-1.37-1.37c-.4-.4-.92-.59-1.43-.59-.52 0-1.04.2-1.43.59L10.3 9.45l-7.72 7.72c-.78.78-.78 2.05 0 2.83L4 21.41c.39.39.9.59 1.41.59.51 0 1.02-.2 1.41-.59l7.78-7.78 2.81-2.81c.8-.78.8-2.07 0-2.86zM5.41 20L4 18.59l7.72-7.72 1.47 1.35L5.41 20z\"/>\n",
              "  </svg>\n",
              "      </button>\n",
              "      \n",
              "  <style>\n",
              "    .colab-df-container {\n",
              "      display:flex;\n",
              "      flex-wrap:wrap;\n",
              "      gap: 12px;\n",
              "    }\n",
              "\n",
              "    .colab-df-convert {\n",
              "      background-color: #E8F0FE;\n",
              "      border: none;\n",
              "      border-radius: 50%;\n",
              "      cursor: pointer;\n",
              "      display: none;\n",
              "      fill: #1967D2;\n",
              "      height: 32px;\n",
              "      padding: 0 0 0 0;\n",
              "      width: 32px;\n",
              "    }\n",
              "\n",
              "    .colab-df-convert:hover {\n",
              "      background-color: #E2EBFA;\n",
              "      box-shadow: 0px 1px 2px rgba(60, 64, 67, 0.3), 0px 1px 3px 1px rgba(60, 64, 67, 0.15);\n",
              "      fill: #174EA6;\n",
              "    }\n",
              "\n",
              "    [theme=dark] .colab-df-convert {\n",
              "      background-color: #3B4455;\n",
              "      fill: #D2E3FC;\n",
              "    }\n",
              "\n",
              "    [theme=dark] .colab-df-convert:hover {\n",
              "      background-color: #434B5C;\n",
              "      box-shadow: 0px 1px 3px 1px rgba(0, 0, 0, 0.15);\n",
              "      filter: drop-shadow(0px 1px 2px rgba(0, 0, 0, 0.3));\n",
              "      fill: #FFFFFF;\n",
              "    }\n",
              "  </style>\n",
              "\n",
              "      <script>\n",
              "        const buttonEl =\n",
              "          document.querySelector('#df-0cd17ebe-f15d-4546-8fd4-c11b340b4830 button.colab-df-convert');\n",
              "        buttonEl.style.display =\n",
              "          google.colab.kernel.accessAllowed ? 'block' : 'none';\n",
              "\n",
              "        async function convertToInteractive(key) {\n",
              "          const element = document.querySelector('#df-0cd17ebe-f15d-4546-8fd4-c11b340b4830');\n",
              "          const dataTable =\n",
              "            await google.colab.kernel.invokeFunction('convertToInteractive',\n",
              "                                                     [key], {});\n",
              "          if (!dataTable) return;\n",
              "\n",
              "          const docLinkHtml = 'Like what you see? Visit the ' +\n",
              "            '<a target=\"_blank\" href=https://colab.research.google.com/notebooks/data_table.ipynb>data table notebook</a>'\n",
              "            + ' to learn more about interactive tables.';\n",
              "          element.innerHTML = '';\n",
              "          dataTable['output_type'] = 'display_data';\n",
              "          await google.colab.output.renderOutput(dataTable, element);\n",
              "          const docLink = document.createElement('div');\n",
              "          docLink.innerHTML = docLinkHtml;\n",
              "          element.appendChild(docLink);\n",
              "        }\n",
              "      </script>\n",
              "    </div>\n",
              "  </div>\n",
              "  "
            ]
          },
          "metadata": {},
          "execution_count": 2
        }
      ]
    },
    {
      "cell_type": "markdown",
      "source": [
        "# ¿Qué contiene cada columna?\n",
        "\n",
        "Serial No: Es la idenfificación de cada uno de los registros, a simple vista, no es un dato que pueda comprometer el rendimiento del modelo en sus predicciones.\n",
        "\n",
        "GRE Score: Contiene información con respecto al promedio de notas sacado en examenes de Lectura, logica y Escritura\n",
        "\n",
        "TOELF Score: resultados del Examen TOELF\n",
        "\n",
        "University Rating: Rango de la universidad\n",
        "\n",
        "Statement of Purpose (SOP): Calificación de la carta de presentación.\n",
        "\n",
        "LOR: Carta de recomendación\n",
        "\n",
        "CGPA: Grado del oregrado \n",
        "\n",
        "Research: Tiene o no experiencia en inverstigación\n",
        "\n",
        "Chance of Admit: probabilidad de ser admitido (Objetivo)"
      ],
      "metadata": {
        "id": "fI9eE1VYaQS0"
      }
    },
    {
      "cell_type": "markdown",
      "source": [
        "Valores duplicados"
      ],
      "metadata": {
        "id": "2o5H6cXsh-mE"
      }
    },
    {
      "cell_type": "code",
      "source": [
        "df.duplicated().sum()"
      ],
      "metadata": {
        "colab": {
          "base_uri": "https://localhost:8080/"
        },
        "id": "wnKUlwIuhzW1",
        "outputId": "cd83ed3a-224c-4af5-801a-920efb0c645f"
      },
      "execution_count": null,
      "outputs": [
        {
          "output_type": "execute_result",
          "data": {
            "text/plain": [
              "0"
            ]
          },
          "metadata": {},
          "execution_count": 3
        }
      ]
    },
    {
      "cell_type": "markdown",
      "source": [
        "No cuenta con valores duplicados"
      ],
      "metadata": {
        "id": "_ZsR0s_XiI35"
      }
    },
    {
      "cell_type": "markdown",
      "source": [
        "Valores Faltantes"
      ],
      "metadata": {
        "id": "KKWltWfUiOq7"
      }
    },
    {
      "cell_type": "code",
      "source": [
        "df.isna().sum()"
      ],
      "metadata": {
        "colab": {
          "base_uri": "https://localhost:8080/"
        },
        "id": "S5gxI86OiID0",
        "outputId": "d2fe950d-e7c3-47a1-f0fe-b720754f4d3c"
      },
      "execution_count": null,
      "outputs": [
        {
          "output_type": "execute_result",
          "data": {
            "text/plain": [
              "Serial No.           0\n",
              "GRE Score            0\n",
              "TOEFL Score          0\n",
              "University Rating    0\n",
              "SOP                  0\n",
              "LOR                  0\n",
              "CGPA                 0\n",
              "Research             0\n",
              "Chance of Admit      0\n",
              "dtype: int64"
            ]
          },
          "metadata": {},
          "execution_count": 4
        }
      ]
    },
    {
      "cell_type": "markdown",
      "source": [
        "No tenemos valores faltantes"
      ],
      "metadata": {
        "id": "3xjbZFLgiS9C"
      }
    },
    {
      "cell_type": "markdown",
      "source": [
        "Inconsistencia en los valores del conjunto de datos"
      ],
      "metadata": {
        "id": "Z4bc5poNiVnC"
      }
    },
    {
      "cell_type": "code",
      "source": [
        "df.info()"
      ],
      "metadata": {
        "colab": {
          "base_uri": "https://localhost:8080/"
        },
        "id": "BbqsNsQlil1C",
        "outputId": "8ccde0f8-baab-4c71-d390-94f10803d8ca"
      },
      "execution_count": null,
      "outputs": [
        {
          "output_type": "stream",
          "name": "stdout",
          "text": [
            "<class 'pandas.core.frame.DataFrame'>\n",
            "RangeIndex: 400 entries, 0 to 399\n",
            "Data columns (total 9 columns):\n",
            " #   Column             Non-Null Count  Dtype  \n",
            "---  ------             --------------  -----  \n",
            " 0   Serial No.         400 non-null    int64  \n",
            " 1   GRE Score          400 non-null    int64  \n",
            " 2   TOEFL Score        400 non-null    int64  \n",
            " 3   University Rating  400 non-null    int64  \n",
            " 4   SOP                400 non-null    float64\n",
            " 5   LOR                400 non-null    float64\n",
            " 6   CGPA               400 non-null    float64\n",
            " 7   Research           400 non-null    int64  \n",
            " 8   Chance of Admit    400 non-null    float64\n",
            "dtypes: float64(4), int64(5)\n",
            "memory usage: 28.2 KB\n"
          ]
        }
      ]
    },
    {
      "cell_type": "markdown",
      "source": [
        "Todos los datos son de tipo númerico, asi que no es necesario realizar conversiones OneHotEncoder o conversiones ordinales\n"
      ],
      "metadata": {
        "id": "-TaHtOOqisX6"
      }
    },
    {
      "cell_type": "code",
      "source": [
        "corr =  df.corr()\n",
        "print(corr)"
      ],
      "metadata": {
        "colab": {
          "base_uri": "https://localhost:8080/"
        },
        "id": "6C-XFfp9kZfs",
        "outputId": "5b324c00-3c34-41ca-de15-250b3d1adc44"
      },
      "execution_count": null,
      "outputs": [
        {
          "output_type": "stream",
          "name": "stdout",
          "text": [
            "                   Serial No.  GRE Score  TOEFL Score  University Rating  \\\n",
            "Serial No.           1.000000  -0.097526    -0.147932          -0.169948   \n",
            "GRE Score           -0.097526   1.000000     0.835977           0.668976   \n",
            "TOEFL Score         -0.147932   0.835977     1.000000           0.695590   \n",
            "University Rating   -0.169948   0.668976     0.695590           1.000000   \n",
            "SOP                 -0.166932   0.612831     0.657981           0.734523   \n",
            "LOR                 -0.088221   0.557555     0.567721           0.660123   \n",
            "CGPA                -0.045608   0.833060     0.828417           0.746479   \n",
            "Research            -0.063138   0.580391     0.489858           0.447783   \n",
            "Chance of Admit      0.042336   0.802610     0.791594           0.711250   \n",
            "\n",
            "                        SOP      LOR       CGPA  Research  Chance of Admit   \n",
            "Serial No.        -0.166932 -0.088221 -0.045608 -0.063138          0.042336  \n",
            "GRE Score          0.612831  0.557555  0.833060  0.580391          0.802610  \n",
            "TOEFL Score        0.657981  0.567721  0.828417  0.489858          0.791594  \n",
            "University Rating  0.734523  0.660123  0.746479  0.447783          0.711250  \n",
            "SOP                1.000000  0.729593  0.718144  0.444029          0.675732  \n",
            "LOR                0.729593  1.000000  0.670211  0.396859          0.669889  \n",
            "CGPA               0.718144  0.670211  1.000000  0.521654          0.873289  \n",
            "Research           0.444029  0.396859  0.521654  1.000000          0.553202  \n",
            "Chance of Admit    0.675732  0.669889  0.873289  0.553202          1.000000  \n"
          ]
        }
      ]
    },
    {
      "cell_type": "markdown",
      "source": [
        "Como todos los datos son númericos, podemos dibujar un mapa de calor para identificar la correlación de cada caracteristica con el objetivo"
      ],
      "metadata": {
        "id": "b5PqGmGgnO9t"
      }
    },
    {
      "cell_type": "code",
      "source": [
        "df['University Rating'].value_counts()"
      ],
      "metadata": {
        "colab": {
          "base_uri": "https://localhost:8080/"
        },
        "id": "4K-kHGOzMdur",
        "outputId": "426edfbe-638a-4412-b614-7f356c4d0fa3"
      },
      "execution_count": null,
      "outputs": [
        {
          "output_type": "execute_result",
          "data": {
            "text/plain": [
              "3    133\n",
              "2    107\n",
              "4     74\n",
              "5     60\n",
              "1     26\n",
              "Name: University Rating, dtype: int64"
            ]
          },
          "metadata": {},
          "execution_count": 7
        }
      ]
    },
    {
      "cell_type": "code",
      "source": [
        "import numpy as np\n",
        "import matplotlib.pyplot as plt\n",
        "import seaborn as sns"
      ],
      "metadata": {
        "id": "IlprCTyFuuTA"
      },
      "execution_count": null,
      "outputs": []
    },
    {
      "cell_type": "code",
      "source": [
        "sns.heatmap(corr, cmap = 'Greens', annot = True)"
      ],
      "metadata": {
        "colab": {
          "base_uri": "https://localhost:8080/",
          "height": 363
        },
        "id": "jKwo19F-kfyU",
        "outputId": "f538fbe0-4d55-4047-e0b9-b21aa34e691d"
      },
      "execution_count": null,
      "outputs": [
        {
          "output_type": "execute_result",
          "data": {
            "text/plain": [
              "<matplotlib.axes._subplots.AxesSubplot at 0x7f608d71b520>"
            ]
          },
          "metadata": {},
          "execution_count": 9
        },
        {
          "output_type": "display_data",
          "data": {
            "text/plain": [
              "<Figure size 432x288 with 2 Axes>"
            ],
            "image/png": "[encoded data removed]"
          },
          "metadata": {
            "needs_background": "light"
          }
        }
      ]
    },
    {
      "cell_type": "markdown",
      "source": [
        "La relación de cada una de las caracteristicas con el objetivo apredecir son positivas, mayores a 0.3, con esto podría confirmar que todas las caracteristicas de este conjunto de datos son necesarias para las predicciones.\n",
        " "
      ],
      "metadata": {
        "id": "lHHUHHsjnifi"
      }
    },
    {
      "cell_type": "code",
      "source": [
        "chance_of_admision = df['Chance of Admit ']\n",
        "print(f\"Promedio de oportunidades de admisión {chance_of_admision.mean()}\")\n",
        "plt.style.use('seaborn')\n",
        "plt.hist(chance_of_admision,bins = 15,edgecolor='black')\n",
        "plt.title(\"Distribución de las oportunidades\")\n",
        "plt.xlabel(\"Chance\")\n",
        "plt.ylabel(\"Número de registros\")\n",
        "plt.show()"
      ],
      "metadata": {
        "colab": {
          "base_uri": "https://localhost:8080/",
          "height": 393
        },
        "id": "Gx62hJ4yvQif",
        "outputId": "a5e7fbd7-21c8-4b43-b8b4-c13fbf02d8a6"
      },
      "execution_count": null,
      "outputs": [
        {
          "output_type": "stream",
          "name": "stdout",
          "text": [
            "Promedio de oportunidades de admisión 0.72435\n"
          ]
        },
        {
          "output_type": "display_data",
          "data": {
            "text/plain": [
              "<Figure size 576x396 with 1 Axes>"
            ],
            "image/png": "[encoded data removed]"
          },
          "metadata": {}
        }
      ]
    },
    {
      "cell_type": "markdown",
      "source": [
        "En general, los datos que contiene nuestro dataset, tienen un valor constante y frecuente de posibilidades de ser admitidos a una universidad de 72. Un valor muy alto, considerando los diferentes niveles de dificultad que podrían presentar algunas universidades y examenes"
      ],
      "metadata": {
        "id": "w-U5lugX77pz"
      }
    },
    {
      "cell_type": "code",
      "source": [
        "rating_result = df.groupby(['University Rating'])['Chance of Admit '].nunique()\n",
        "rating_result\n"
      ],
      "metadata": {
        "colab": {
          "base_uri": "https://localhost:8080/"
        },
        "id": "Uem5UFsKlZl8",
        "outputId": "e21c784b-ae3c-48f9-d7ab-1eb84e62b922"
      },
      "execution_count": null,
      "outputs": [
        {
          "output_type": "execute_result",
          "data": {
            "text/plain": [
              "University Rating\n",
              "1    18\n",
              "2    37\n",
              "3    39\n",
              "4    31\n",
              "5    20\n",
              "Name: Chance of Admit , dtype: int64"
            ]
          },
          "metadata": {},
          "execution_count": 11
        }
      ]
    },
    {
      "cell_type": "markdown",
      "source": [],
      "metadata": {
        "id": "KOtmqRGQL31g"
      }
    },
    {
      "cell_type": "code",
      "source": [
        "y = np.array(rating_result.index)\n",
        "X = np.array(rating_result.values)\n",
        "plt.plot(X,y, 'ko',linewidth=2)\n",
        "plt.ylabel(\" Raiting university\")\n",
        "plt.xlabel(\"Chance of Admit\")\n",
        "plt.title('Probabilidades de Admisión con respecto al Raiting de la Universidad', fontsize=20,loc='center')"
      ],
      "metadata": {
        "colab": {
          "base_uri": "https://localhost:8080/",
          "height": 399
        },
        "id": "U-CebS5lopHW",
        "outputId": "5fb5061c-d34d-43e4-e8ec-101bcd0cf0d7"
      },
      "execution_count": null,
      "outputs": [
        {
          "output_type": "execute_result",
          "data": {
            "text/plain": [
              "Text(0.5, 1.0, 'Probabilidades de Admisión con respecto al Raiting de la Universidad')"
            ]
          },
          "metadata": {},
          "execution_count": 12
        },
        {
          "output_type": "display_data",
          "data": {
            "text/plain": [
              "<Figure size 576x396 with 1 Axes>"
            ],
            "image/png": "[encoded data removed]"
          },
          "metadata": {}
        }
      ]
    },
    {
      "cell_type": "markdown",
      "source": [
        "Entre más alto sea el Raiting de calificación de la universidad, menos posibilidades tendremos de ser admitidos a la universidad, siendo University Rating = 1 la maxíma clasificación."
      ],
      "metadata": {
        "id": "5AvRhq-jL7ku"
      }
    },
    {
      "cell_type": "code",
      "source": [
        "\n",
        "score_toefl = df.groupby(['TOEFL Score'])['TOEFL Score'].count()\n",
        "x = np.array(score_toefl.index)\n",
        "y = np.array(score_toefl.values)\n",
        "plt.plot(x, y,lw=3,marker='o')\n",
        "plt.ylabel('# de estudiantes')\n",
        "plt.xlabel('Puntos TOEFL')\n",
        "plt.title('Calificación de examenes TOEFL en 400 estudiantes', size=20,color='blue')\n",
        "plt.show()\n",
        "    "
      ],
      "metadata": {
        "colab": {
          "base_uri": "https://localhost:8080/",
          "height": 382
        },
        "id": "8UqjmpDTROoJ",
        "outputId": "6eb5cf99-ea71-4a62-e96c-7b0c9548d64f"
      },
      "execution_count": null,
      "outputs": [
        {
          "output_type": "display_data",
          "data": {
            "text/plain": [
              "<Figure size 576x396 with 1 Axes>"
            ],
            "image/png": "[encoded data removed]"
          },
          "metadata": {}
        }
      ]
    },
    {
      "cell_type": "markdown",
      "source": [
        "Este tipo de dataset, no solo nos permite ver patrones de admisión, si no tambien, evaluar el desempeño de los estudiantes en los examenes presentados, por ejemplo, en examanes TOEFL, se observa que un total de 37 estudiantes de 400 han obtenido un total de 110 puntos, si lo llevaramos a una escala de calificación, sería algo una calificación equivalente a un 4,4. por debajo de los 70 se puede considerar una calificación negativa, Tomando como base que 120 puntos es la maxíma calificacón"
      ],
      "metadata": {
        "id": "OWPGkEKpcHjP"
      }
    },
    {
      "cell_type": "code",
      "source": [
        "research_xperience = df.groupby(['Research'])['Research'].count()\n",
        "research_xperience\n",
        "dict_labels = {'No experience':0,'experiece':1}\n",
        "plt.pie(research_xperience,labels=dict_labels,autopct=\"%0.1f %%\")\n",
        "plt.axis('equal')\n",
        "plt.title('Porcentaje de estudiantes con experiencia en investigación',fontsize=20)\n",
        "plt.legend()"
      ],
      "metadata": {
        "colab": {
          "base_uri": "https://localhost:8080/",
          "height": 370
        },
        "id": "bwPcr2yNeGZM",
        "outputId": "f4ab21b6-0a4e-417a-df5a-eaf9f7220249"
      },
      "execution_count": null,
      "outputs": [
        {
          "output_type": "execute_result",
          "data": {
            "text/plain": [
              "<matplotlib.legend.Legend at 0x7f5b384b0f10>"
            ]
          },
          "metadata": {},
          "execution_count": 14
        },
        {
          "output_type": "display_data",
          "data": {
            "text/plain": [
              "<Figure size 576x396 with 1 Axes>"
            ],
            "image/png": "[encoded data removed]"
          },
          "metadata": {}
        }
      ]
    },
    {
      "cell_type": "markdown",
      "source": [
        "Podemos ver de igualmente, que hay una tendencia positiva de los estudiantes a pertenecer a grupos de estudio e investigación."
      ],
      "metadata": {
        "id": "0CYctRIHgCrX"
      }
    },
    {
      "cell_type": "code",
      "source": [
        "\n",
        "plt.hist(df['CGPA'],edgecolor='k')\n",
        "plt.ylabel('# de pregrados y/o maestrias')\n",
        "plt.xlabel('Grado de dificultal del pregrado y/o maestria')\n",
        "plt.title('Dificultad de las carreras o maestrias', fontsize=20)"
      ],
      "metadata": {
        "colab": {
          "base_uri": "https://localhost:8080/",
          "height": 399
        },
        "id": "36Qek5h6gsKr",
        "outputId": "8f646d7f-c9ae-4d58-e61a-74f168cf3fc4"
      },
      "execution_count": null,
      "outputs": [
        {
          "output_type": "execute_result",
          "data": {
            "text/plain": [
              "Text(0.5, 1.0, 'Dificultad de las carreras o maestrias')"
            ]
          },
          "metadata": {},
          "execution_count": 15
        },
        {
          "output_type": "display_data",
          "data": {
            "text/plain": [
              "<Figure size 576x396 with 1 Axes>"
            ],
            "image/png": "[encoded data removed]"
          },
          "metadata": {}
        }
      ]
    },
    {
      "cell_type": "markdown",
      "source": [
        "Observamos en esta gráfica la calidad de cada una de las carreras a las cuales se aplican, en su mayoría, casi su totalidad, tienen un grado de dificultad muy alto"
      ],
      "metadata": {
        "id": "TYBA_Q-5lDA_"
      }
    },
    {
      "cell_type": "code",
      "source": [
        "filter = df['CGPA'] > 9\n",
        "filter2 = df['Chance of Admit '] > .8\n",
        "\n",
        "carrers_high_dificulty= df[filter & filter2]\n",
        "x = np.array(carrers_high_dificulty['CGPA'])\n",
        "y = np.array(carrers_high_dificulty['Chance of Admit '])\n",
        "plt.plot(x,y,'o')\n",
        "plt.ylabel('Oportunidad de Admisión')\n",
        "plt.xlabel('Grado de dificultal de la carrera')"
      ],
      "metadata": {
        "colab": {
          "base_uri": "https://localhost:8080/",
          "height": 297
        },
        "id": "96ipW2atlXJN",
        "outputId": "9934a08b-18cc-4a2f-fb15-22d58820de03"
      },
      "execution_count": null,
      "outputs": [
        {
          "output_type": "execute_result",
          "data": {
            "text/plain": [
              "Text(0.5, 0, 'Grado de dificultal de la carrera')"
            ]
          },
          "metadata": {},
          "execution_count": 10
        },
        {
          "output_type": "display_data",
          "data": {
            "text/plain": [
              "<Figure size 432x288 with 1 Axes>"
            ],
            "image/png": "[encoded data removed]"
          },
          "metadata": {
            "needs_background": "light"
          }
        }
      ]
    },
    {
      "cell_type": "code",
      "source": [
        "carrers_high_dificulty.head(15)"
      ],
      "metadata": {
        "colab": {
          "base_uri": "https://localhost:8080/",
          "height": 520
        },
        "id": "zPUD1mH6sYwj",
        "outputId": "26a14f5a-048e-4360-b428-27767239560d"
      },
      "execution_count": null,
      "outputs": [
        {
          "output_type": "execute_result",
          "data": {
            "text/plain": [
              "    Serial No.  GRE Score  TOEFL Score  University Rating  SOP  LOR   CGPA  \\\n",
              "0            1        337          118                  4  4.5   4.5  9.65   \n",
              "5            6        330          115                  5  4.5   3.0  9.34   \n",
              "22          23        328          116                  5  5.0   5.0  9.50   \n",
              "23          24        334          119                  5  5.0   4.5  9.70   \n",
              "24          25        336          119                  5  4.0   3.5  9.80   \n",
              "25          26        340          120                  5  4.5   4.5  9.60   \n",
              "32          33        338          118                  4  3.0   4.5  9.40   \n",
              "33          34        340          114                  5  4.0   4.0  9.60   \n",
              "34          35        331          112                  5  4.0   5.0  9.80   \n",
              "35          36        320          110                  5  5.0   5.0  9.20   \n",
              "43          44        332          117                  4  4.5   4.0  9.10   \n",
              "44          45        326          113                  5  4.5   4.0  9.40   \n",
              "45          46        322          110                  5  5.0   4.0  9.10   \n",
              "46          47        329          114                  5  4.0   5.0  9.30   \n",
              "47          48        339          119                  5  4.5   4.0  9.70   \n",
              "\n",
              "    Research  Chance of Admit   \n",
              "0          1              0.92  \n",
              "5          1              0.90  \n",
              "22         1              0.94  \n",
              "23         1              0.95  \n",
              "24         1              0.97  \n",
              "25         1              0.94  \n",
              "32         1              0.91  \n",
              "33         1              0.90  \n",
              "34         1              0.94  \n",
              "35         1              0.88  \n",
              "43         0              0.87  \n",
              "44         1              0.91  \n",
              "45         1              0.88  \n",
              "46         1              0.86  \n",
              "47         0              0.89  "
            ],
            "text/html": [
              "\n",
              "  <div id=\"df-8e06c979-fdd9-4ca0-bf97-58010b904cd1\">\n",
              "    <div class=\"colab-df-container\">\n",
              "      <div>\n",
              "<style scoped>\n",
              "    .dataframe tbody tr th:only-of-type {\n",
              "        vertical-align: middle;\n",
              "    }\n",
              "\n",
              "    .dataframe tbody tr th {\n",
              "        vertical-align: top;\n",
              "    }\n",
              "\n",
              "    .dataframe thead th {\n",
              "        text-align: right;\n",
              "    }\n",
              "</style>\n",
              "<table border=\"1\" class=\"dataframe\">\n",
              "  <thead>\n",
              "    <tr style=\"text-align: right;\">\n",
              "      <th></th>\n",
              "      <th>Serial No.</th>\n",
              "      <th>GRE Score</th>\n",
              "      <th>TOEFL Score</th>\n",
              "      <th>University Rating</th>\n",
              "      <th>SOP</th>\n",
              "      <th>LOR</th>\n",
              "      <th>CGPA</th>\n",
              "      <th>Research</th>\n",
              "      <th>Chance of Admit</th>\n",
              "    </tr>\n",
              "  </thead>\n",
              "  <tbody>\n",
              "    <tr>\n",
              "      <th>0</th>\n",
              "      <td>1</td>\n",
              "      <td>337</td>\n",
              "      <td>118</td>\n",
              "      <td>4</td>\n",
              "      <td>4.5</td>\n",
              "      <td>4.5</td>\n",
              "      <td>9.65</td>\n",
              "      <td>1</td>\n",
              "      <td>0.92</td>\n",
              "    </tr>\n",
              "    <tr>\n",
              "      <th>5</th>\n",
              "      <td>6</td>\n",
              "      <td>330</td>\n",
              "      <td>115</td>\n",
              "      <td>5</td>\n",
              "      <td>4.5</td>\n",
              "      <td>3.0</td>\n",
              "      <td>9.34</td>\n",
              "      <td>1</td>\n",
              "      <td>0.90</td>\n",
              "    </tr>\n",
              "    <tr>\n",
              "      <th>22</th>\n",
              "      <td>23</td>\n",
              "      <td>328</td>\n",
              "      <td>116</td>\n",
              "      <td>5</td>\n",
              "      <td>5.0</td>\n",
              "      <td>5.0</td>\n",
              "      <td>9.50</td>\n",
              "      <td>1</td>\n",
              "      <td>0.94</td>\n",
              "    </tr>\n",
              "    <tr>\n",
              "      <th>23</th>\n",
              "      <td>24</td>\n",
              "      <td>334</td>\n",
              "      <td>119</td>\n",
              "      <td>5</td>\n",
              "      <td>5.0</td>\n",
              "      <td>4.5</td>\n",
              "      <td>9.70</td>\n",
              "      <td>1</td>\n",
              "      <td>0.95</td>\n",
              "    </tr>\n",
              "    <tr>\n",
              "      <th>24</th>\n",
              "      <td>25</td>\n",
              "      <td>336</td>\n",
              "      <td>119</td>\n",
              "      <td>5</td>\n",
              "      <td>4.0</td>\n",
              "      <td>3.5</td>\n",
              "      <td>9.80</td>\n",
              "      <td>1</td>\n",
              "      <td>0.97</td>\n",
              "    </tr>\n",
              "    <tr>\n",
              "      <th>25</th>\n",
              "      <td>26</td>\n",
              "      <td>340</td>\n",
              "      <td>120</td>\n",
              "      <td>5</td>\n",
              "      <td>4.5</td>\n",
              "      <td>4.5</td>\n",
              "      <td>9.60</td>\n",
              "      <td>1</td>\n",
              "      <td>0.94</td>\n",
              "    </tr>\n",
              "    <tr>\n",
              "      <th>32</th>\n",
              "      <td>33</td>\n",
              "      <td>338</td>\n",
              "      <td>118</td>\n",
              "      <td>4</td>\n",
              "      <td>3.0</td>\n",
              "      <td>4.5</td>\n",
              "      <td>9.40</td>\n",
              "      <td>1</td>\n",
              "      <td>0.91</td>\n",
              "    </tr>\n",
              "    <tr>\n",
              "      <th>33</th>\n",
              "      <td>34</td>\n",
              "      <td>340</td>\n",
              "      <td>114</td>\n",
              "      <td>5</td>\n",
              "      <td>4.0</td>\n",
              "      <td>4.0</td>\n",
              "      <td>9.60</td>\n",
              "      <td>1</td>\n",
              "      <td>0.90</td>\n",
              "    </tr>\n",
              "    <tr>\n",
              "      <th>34</th>\n",
              "      <td>35</td>\n",
              "      <td>331</td>\n",
              "      <td>112</td>\n",
              "      <td>5</td>\n",
              "      <td>4.0</td>\n",
              "      <td>5.0</td>\n",
              "      <td>9.80</td>\n",
              "      <td>1</td>\n",
              "      <td>0.94</td>\n",
              "    </tr>\n",
              "    <tr>\n",
              "      <th>35</th>\n",
              "      <td>36</td>\n",
              "      <td>320</td>\n",
              "      <td>110</td>\n",
              "      <td>5</td>\n",
              "      <td>5.0</td>\n",
              "      <td>5.0</td>\n",
              "      <td>9.20</td>\n",
              "      <td>1</td>\n",
              "      <td>0.88</td>\n",
              "    </tr>\n",
              "    <tr>\n",
              "      <th>43</th>\n",
              "      <td>44</td>\n",
              "      <td>332</td>\n",
              "      <td>117</td>\n",
              "      <td>4</td>\n",
              "      <td>4.5</td>\n",
              "      <td>4.0</td>\n",
              "      <td>9.10</td>\n",
              "      <td>0</td>\n",
              "      <td>0.87</td>\n",
              "    </tr>\n",
              "    <tr>\n",
              "      <th>44</th>\n",
              "      <td>45</td>\n",
              "      <td>326</td>\n",
              "      <td>113</td>\n",
              "      <td>5</td>\n",
              "      <td>4.5</td>\n",
              "      <td>4.0</td>\n",
              "      <td>9.40</td>\n",
              "      <td>1</td>\n",
              "      <td>0.91</td>\n",
              "    </tr>\n",
              "    <tr>\n",
              "      <th>45</th>\n",
              "      <td>46</td>\n",
              "      <td>322</td>\n",
              "      <td>110</td>\n",
              "      <td>5</td>\n",
              "      <td>5.0</td>\n",
              "      <td>4.0</td>\n",
              "      <td>9.10</td>\n",
              "      <td>1</td>\n",
              "      <td>0.88</td>\n",
              "    </tr>\n",
              "    <tr>\n",
              "      <th>46</th>\n",
              "      <td>47</td>\n",
              "      <td>329</td>\n",
              "      <td>114</td>\n",
              "      <td>5</td>\n",
              "      <td>4.0</td>\n",
              "      <td>5.0</td>\n",
              "      <td>9.30</td>\n",
              "      <td>1</td>\n",
              "      <td>0.86</td>\n",
              "    </tr>\n",
              "    <tr>\n",
              "      <th>47</th>\n",
              "      <td>48</td>\n",
              "      <td>339</td>\n",
              "      <td>119</td>\n",
              "      <td>5</td>\n",
              "      <td>4.5</td>\n",
              "      <td>4.0</td>\n",
              "      <td>9.70</td>\n",
              "      <td>0</td>\n",
              "      <td>0.89</td>\n",
              "    </tr>\n",
              "  </tbody>\n",
              "</table>\n",
              "</div>\n",
              "      <button class=\"colab-df-convert\" onclick=\"convertToInteractive('df-8e06c979-fdd9-4ca0-bf97-58010b904cd1')\"\n",
              "              title=\"Convert this dataframe to an interactive table.\"\n",
              "              style=\"display:none;\">\n",
              "        \n",
              "  <svg xmlns=\"http://www.w3.org/2000/svg\" height=\"24px\"viewBox=\"0 0 24 24\"\n",
              "       width=\"24px\">\n",
              "    <path d=\"M0 0h24v24H0V0z\" fill=\"none\"/>\n",
              "    <path d=\"M18.56 5.44l.94 2.06.94-2.06 2.06-.94-2.06-.94-.94-2.06-.94 2.06-2.06.94zm-11 1L8.5 8.5l.94-2.06 2.06-.94-2.06-.94L8.5 2.5l-.94 2.06-2.06.94zm10 10l.94 2.06.94-2.06 2.06-.94-2.06-.94-.94-2.06-.94 2.06-2.06.94z\"/><path d=\"M17.41 7.96l-1.37-1.37c-.4-.4-.92-.59-1.43-.59-.52 0-1.04.2-1.43.59L10.3 9.45l-7.72 7.72c-.78.78-.78 2.05 0 2.83L4 21.41c.39.39.9.59 1.41.59.51 0 1.02-.2 1.41-.59l7.78-7.78 2.81-2.81c.8-.78.8-2.07 0-2.86zM5.41 20L4 18.59l7.72-7.72 1.47 1.35L5.41 20z\"/>\n",
              "  </svg>\n",
              "      </button>\n",
              "      \n",
              "  <style>\n",
              "    .colab-df-container {\n",
              "      display:flex;\n",
              "      flex-wrap:wrap;\n",
              "      gap: 12px;\n",
              "    }\n",
              "\n",
              "    .colab-df-convert {\n",
              "      background-color: #E8F0FE;\n",
              "      border: none;\n",
              "      border-radius: 50%;\n",
              "      cursor: pointer;\n",
              "      display: none;\n",
              "      fill: #1967D2;\n",
              "      height: 32px;\n",
              "      padding: 0 0 0 0;\n",
              "      width: 32px;\n",
              "    }\n",
              "\n",
              "    .colab-df-convert:hover {\n",
              "      background-color: #E2EBFA;\n",
              "      box-shadow: 0px 1px 2px rgba(60, 64, 67, 0.3), 0px 1px 3px 1px rgba(60, 64, 67, 0.15);\n",
              "      fill: #174EA6;\n",
              "    }\n",
              "\n",
              "    [theme=dark] .colab-df-convert {\n",
              "      background-color: #3B4455;\n",
              "      fill: #D2E3FC;\n",
              "    }\n",
              "\n",
              "    [theme=dark] .colab-df-convert:hover {\n",
              "      background-color: #434B5C;\n",
              "      box-shadow: 0px 1px 3px 1px rgba(0, 0, 0, 0.15);\n",
              "      filter: drop-shadow(0px 1px 2px rgba(0, 0, 0, 0.3));\n",
              "      fill: #FFFFFF;\n",
              "    }\n",
              "  </style>\n",
              "\n",
              "      <script>\n",
              "        const buttonEl =\n",
              "          document.querySelector('#df-8e06c979-fdd9-4ca0-bf97-58010b904cd1 button.colab-df-convert');\n",
              "        buttonEl.style.display =\n",
              "          google.colab.kernel.accessAllowed ? 'block' : 'none';\n",
              "\n",
              "        async function convertToInteractive(key) {\n",
              "          const element = document.querySelector('#df-8e06c979-fdd9-4ca0-bf97-58010b904cd1');\n",
              "          const dataTable =\n",
              "            await google.colab.kernel.invokeFunction('convertToInteractive',\n",
              "                                                     [key], {});\n",
              "          if (!dataTable) return;\n",
              "\n",
              "          const docLinkHtml = 'Like what you see? Visit the ' +\n",
              "            '<a target=\"_blank\" href=https://colab.research.google.com/notebooks/data_table.ipynb>data table notebook</a>'\n",
              "            + ' to learn more about interactive tables.';\n",
              "          element.innerHTML = '';\n",
              "          dataTable['output_type'] = 'display_data';\n",
              "          await google.colab.output.renderOutput(dataTable, element);\n",
              "          const docLink = document.createElement('div');\n",
              "          docLink.innerHTML = docLinkHtml;\n",
              "          element.appendChild(docLink);\n",
              "        }\n",
              "      </script>\n",
              "    </div>\n",
              "  </div>\n",
              "  "
            ]
          },
          "metadata": {},
          "execution_count": 17
        }
      ]
    },
    {
      "cell_type": "markdown",
      "source": [
        "Para el gráfico anterior, quise analizar la oportunidad de ser admitido a una carrera cuyo graado de dificultad es alto, la manera en como interpreto esta información es que a mayor grado de dificultas, las oportunidades de ser admitido pueden aumentar, pero no por que sea facil ingresar, si no que pueden inferir una cantidad de variables y factores que afecten el proceso de selección."
      ],
      "metadata": {
        "id": "pexKXqtps4rF"
      }
    },
    {
      "cell_type": "markdown",
      "source": [
        "# Valores atípicos"
      ],
      "metadata": {
        "id": "Cgpjf4vWuD3J"
      }
    },
    {
      "cell_type": "markdown",
      "source": [
        "Quisiera solo analizar en nuestro objetivo algún valor atípico. Un valor atípico en este conjunto de datos, sería un valor que este por encima de las probabilidades, que en su punto maxímo sería 0.97, tal como se muestra en el gráfico de caja siguiente."
      ],
      "metadata": {
        "id": "AVKXoDV_uLEq"
      }
    },
    {
      "cell_type": "code",
      "source": [
        "sns.boxplot(df['Chance of Admit '])"
      ],
      "metadata": {
        "colab": {
          "base_uri": "https://localhost:8080/",
          "height": 433
        },
        "id": "d-z7Y-KOt5Ug",
        "outputId": "ec8be618-a9b1-44d9-ba36-c2477823ebd3"
      },
      "execution_count": null,
      "outputs": [
        {
          "output_type": "stream",
          "name": "stderr",
          "text": [
            "/usr/local/lib/python3.8/dist-packages/seaborn/_decorators.py:36: FutureWarning: Pass the following variable as a keyword arg: x. From version 0.12, the only valid positional argument will be `data`, and passing other arguments without an explicit keyword will result in an error or misinterpretation.\n",
            "  warnings.warn(\n"
          ]
        },
        {
          "output_type": "execute_result",
          "data": {
            "text/plain": [
              "<matplotlib.axes._subplots.AxesSubplot at 0x7f5b37eb1b20>"
            ]
          },
          "metadata": {},
          "execution_count": 18
        },
        {
          "output_type": "display_data",
          "data": {
            "text/plain": [
              "<Figure size 576x396 with 1 Axes>"
            ],
            "image/png": "[encoded data removed]"
          },
          "metadata": {}
        }
      ]
    },
    {
      "cell_type": "markdown",
      "source": [],
      "metadata": {
        "id": "9EGg7YJM8Jqv"
      }
    },
    {
      "cell_type": "markdown",
      "source": [
        "# Proyecto 2 - Parte 4 (base)"
      ],
      "metadata": {
        "id": "4WlUF6_P7kZr"
      }
    },
    {
      "cell_type": "markdown",
      "source": [
        "Como hemos observado en los pasos anteriores, este conjunto de datos solo esta comuesto por valores númericos, lo cual nos facilita el modelamiento de los datos, no tenemos valores duplicados, nulos, y tampoco valores atipicos que podamos considerar como ruido.\n",
        "Lo unico que deberiamos realizar es un escalamiento de los datos."
      ],
      "metadata": {
        "id": "o-OnYPnq7rLB"
      }
    },
    {
      "cell_type": "markdown",
      "source": [
        "**Primer modelo**"
      ],
      "metadata": {
        "id": "hp9BGBvRFS0B"
      }
    },
    {
      "cell_type": "markdown",
      "source": [
        "La probabilidad de ser admitido en una universidad, depende de multiples factores, pero, hay unos más importantes que otros, y para este primer modelo de aprendizaje, quisiera tomar como referencia, solo dos de estas caracteristicas: TOEFL Score y GRE Score"
      ],
      "metadata": {
        "id": "oloGsJRjFXuk"
      }
    },
    {
      "cell_type": "code",
      "source": [
        "df_kmeans = df[['TOEFL Score','GRE Score']]\n",
        "df_kmeans.head()"
      ],
      "metadata": {
        "colab": {
          "base_uri": "https://localhost:8080/",
          "height": 206
        },
        "id": "daN8544RHOM8",
        "outputId": "c9c7e0f1-dfd2-4cb4-d108-fb1a8fe0c141"
      },
      "execution_count": null,
      "outputs": [
        {
          "output_type": "execute_result",
          "data": {
            "text/plain": [
              "   TOEFL Score  GRE Score\n",
              "0          118        337\n",
              "1          107        324\n",
              "2          104        316\n",
              "3          110        322\n",
              "4          103        314"
            ],
            "text/html": [
              "\n",
              "  <div id=\"df-5f8cf02d-ae06-43b8-80fe-56a34f33457c\">\n",
              "    <div class=\"colab-df-container\">\n",
              "      <div>\n",
              "<style scoped>\n",
              "    .dataframe tbody tr th:only-of-type {\n",
              "        vertical-align: middle;\n",
              "    }\n",
              "\n",
              "    .dataframe tbody tr th {\n",
              "        vertical-align: top;\n",
              "    }\n",
              "\n",
              "    .dataframe thead th {\n",
              "        text-align: right;\n",
              "    }\n",
              "</style>\n",
              "<table border=\"1\" class=\"dataframe\">\n",
              "  <thead>\n",
              "    <tr style=\"text-align: right;\">\n",
              "      <th></th>\n",
              "      <th>TOEFL Score</th>\n",
              "      <th>GRE Score</th>\n",
              "    </tr>\n",
              "  </thead>\n",
              "  <tbody>\n",
              "    <tr>\n",
              "      <th>0</th>\n",
              "      <td>118</td>\n",
              "      <td>337</td>\n",
              "    </tr>\n",
              "    <tr>\n",
              "      <th>1</th>\n",
              "      <td>107</td>\n",
              "      <td>324</td>\n",
              "    </tr>\n",
              "    <tr>\n",
              "      <th>2</th>\n",
              "      <td>104</td>\n",
              "      <td>316</td>\n",
              "    </tr>\n",
              "    <tr>\n",
              "      <th>3</th>\n",
              "      <td>110</td>\n",
              "      <td>322</td>\n",
              "    </tr>\n",
              "    <tr>\n",
              "      <th>4</th>\n",
              "      <td>103</td>\n",
              "      <td>314</td>\n",
              "    </tr>\n",
              "  </tbody>\n",
              "</table>\n",
              "</div>\n",
              "      <button class=\"colab-df-convert\" onclick=\"convertToInteractive('df-5f8cf02d-ae06-43b8-80fe-56a34f33457c')\"\n",
              "              title=\"Convert this dataframe to an interactive table.\"\n",
              "              style=\"display:none;\">\n",
              "        \n",
              "  <svg xmlns=\"http://www.w3.org/2000/svg\" height=\"24px\"viewBox=\"0 0 24 24\"\n",
              "       width=\"24px\">\n",
              "    <path d=\"M0 0h24v24H0V0z\" fill=\"none\"/>\n",
              "    <path d=\"M18.56 5.44l.94 2.06.94-2.06 2.06-.94-2.06-.94-.94-2.06-.94 2.06-2.06.94zm-11 1L8.5 8.5l.94-2.06 2.06-.94-2.06-.94L8.5 2.5l-.94 2.06-2.06.94zm10 10l.94 2.06.94-2.06 2.06-.94-2.06-.94-.94-2.06-.94 2.06-2.06.94z\"/><path d=\"M17.41 7.96l-1.37-1.37c-.4-.4-.92-.59-1.43-.59-.52 0-1.04.2-1.43.59L10.3 9.45l-7.72 7.72c-.78.78-.78 2.05 0 2.83L4 21.41c.39.39.9.59 1.41.59.51 0 1.02-.2 1.41-.59l7.78-7.78 2.81-2.81c.8-.78.8-2.07 0-2.86zM5.41 20L4 18.59l7.72-7.72 1.47 1.35L5.41 20z\"/>\n",
              "  </svg>\n",
              "      </button>\n",
              "      \n",
              "  <style>\n",
              "    .colab-df-container {\n",
              "      display:flex;\n",
              "      flex-wrap:wrap;\n",
              "      gap: 12px;\n",
              "    }\n",
              "\n",
              "    .colab-df-convert {\n",
              "      background-color: #E8F0FE;\n",
              "      border: none;\n",
              "      border-radius: 50%;\n",
              "      cursor: pointer;\n",
              "      display: none;\n",
              "      fill: #1967D2;\n",
              "      height: 32px;\n",
              "      padding: 0 0 0 0;\n",
              "      width: 32px;\n",
              "    }\n",
              "\n",
              "    .colab-df-convert:hover {\n",
              "      background-color: #E2EBFA;\n",
              "      box-shadow: 0px 1px 2px rgba(60, 64, 67, 0.3), 0px 1px 3px 1px rgba(60, 64, 67, 0.15);\n",
              "      fill: #174EA6;\n",
              "    }\n",
              "\n",
              "    [theme=dark] .colab-df-convert {\n",
              "      background-color: #3B4455;\n",
              "      fill: #D2E3FC;\n",
              "    }\n",
              "\n",
              "    [theme=dark] .colab-df-convert:hover {\n",
              "      background-color: #434B5C;\n",
              "      box-shadow: 0px 1px 3px 1px rgba(0, 0, 0, 0.15);\n",
              "      filter: drop-shadow(0px 1px 2px rgba(0, 0, 0, 0.3));\n",
              "      fill: #FFFFFF;\n",
              "    }\n",
              "  </style>\n",
              "\n",
              "      <script>\n",
              "        const buttonEl =\n",
              "          document.querySelector('#df-5f8cf02d-ae06-43b8-80fe-56a34f33457c button.colab-df-convert');\n",
              "        buttonEl.style.display =\n",
              "          google.colab.kernel.accessAllowed ? 'block' : 'none';\n",
              "\n",
              "        async function convertToInteractive(key) {\n",
              "          const element = document.querySelector('#df-5f8cf02d-ae06-43b8-80fe-56a34f33457c');\n",
              "          const dataTable =\n",
              "            await google.colab.kernel.invokeFunction('convertToInteractive',\n",
              "                                                     [key], {});\n",
              "          if (!dataTable) return;\n",
              "\n",
              "          const docLinkHtml = 'Like what you see? Visit the ' +\n",
              "            '<a target=\"_blank\" href=https://colab.research.google.com/notebooks/data_table.ipynb>data table notebook</a>'\n",
              "            + ' to learn more about interactive tables.';\n",
              "          element.innerHTML = '';\n",
              "          dataTable['output_type'] = 'display_data';\n",
              "          await google.colab.output.renderOutput(dataTable, element);\n",
              "          const docLink = document.createElement('div');\n",
              "          docLink.innerHTML = docLinkHtml;\n",
              "          element.appendChild(docLink);\n",
              "        }\n",
              "      </script>\n",
              "    </div>\n",
              "  </div>\n",
              "  "
            ]
          },
          "metadata": {},
          "execution_count": 43
        }
      ]
    },
    {
      "cell_type": "markdown",
      "source": [
        "Iniciemos, con Kmeans Clustering"
      ],
      "metadata": {
        "id": "NxdlH2H7H_v9"
      }
    },
    {
      "cell_type": "code",
      "source": [
        "import numpy as np\n",
        "import matplotlib.pyplot as plt\n",
        "from sklearn.preprocessing import StandardScaler\n",
        "from sklearn.cluster import KMeans\n",
        "from sklearn.metrics import silhouette_score\n"
      ],
      "metadata": {
        "id": "Tpv9dRPsH_C7"
      },
      "execution_count": null,
      "outputs": []
    },
    {
      "cell_type": "code",
      "source": [
        "scaler = StandardScaler()\n",
        "\n",
        "scaled_df = scaler.fit_transform(df_kmeans)"
      ],
      "metadata": {
        "id": "BasU3F0tJzyd"
      },
      "execution_count": null,
      "outputs": []
    },
    {
      "cell_type": "code",
      "source": [
        "\n",
        "plt.scatter(df_kmeans['TOEFL Score'], df_kmeans['GRE Score'])\n",
        "plt.xlabel('TOEFL Score')\n",
        "plt.ylabel('GRE Score')\n"
      ],
      "metadata": {
        "colab": {
          "base_uri": "https://localhost:8080/",
          "height": 378
        },
        "id": "kI3q-f5SKQpN",
        "outputId": "5b7e9f9c-38b0-43e4-9917-70214eb207c3"
      },
      "execution_count": null,
      "outputs": [
        {
          "output_type": "execute_result",
          "data": {
            "text/plain": [
              "Text(0, 0.5, 'GRE Score')"
            ]
          },
          "metadata": {},
          "execution_count": 46
        },
        {
          "output_type": "display_data",
          "data": {
            "text/plain": [
              "<Figure size 576x396 with 1 Axes>"
            ],
            "image/png": "[encoded data removed]"
          },
          "metadata": {}
        }
      ]
    },
    {
      "cell_type": "code",
      "source": [
        "df_kmeans"
      ],
      "metadata": {
        "colab": {
          "base_uri": "https://localhost:8080/",
          "height": 424
        },
        "id": "5p_NCMFILX6E",
        "outputId": "87a05278-1439-42ae-e7c9-da18e78e8e2d"
      },
      "execution_count": null,
      "outputs": [
        {
          "output_type": "execute_result",
          "data": {
            "text/plain": [
              "     TOEFL Score  GRE Score  cluster\n",
              "0            118        337        1\n",
              "1            107        324        1\n",
              "2            104        316        0\n",
              "3            110        322        1\n",
              "4            103        314        0\n",
              "..           ...        ...      ...\n",
              "395          110        324        1\n",
              "396          107        325        1\n",
              "397          116        330        1\n",
              "398          103        312        0\n",
              "399          117        333        1\n",
              "\n",
              "[400 rows x 3 columns]"
            ],
            "text/html": [
              "\n",
              "  <div id=\"df-d36da429-8246-4337-87a0-8a86d2f5ef25\">\n",
              "    <div class=\"colab-df-container\">\n",
              "      <div>\n",
              "<style scoped>\n",
              "    .dataframe tbody tr th:only-of-type {\n",
              "        vertical-align: middle;\n",
              "    }\n",
              "\n",
              "    .dataframe tbody tr th {\n",
              "        vertical-align: top;\n",
              "    }\n",
              "\n",
              "    .dataframe thead th {\n",
              "        text-align: right;\n",
              "    }\n",
              "</style>\n",
              "<table border=\"1\" class=\"dataframe\">\n",
              "  <thead>\n",
              "    <tr style=\"text-align: right;\">\n",
              "      <th></th>\n",
              "      <th>TOEFL Score</th>\n",
              "      <th>GRE Score</th>\n",
              "      <th>cluster</th>\n",
              "    </tr>\n",
              "  </thead>\n",
              "  <tbody>\n",
              "    <tr>\n",
              "      <th>0</th>\n",
              "      <td>118</td>\n",
              "      <td>337</td>\n",
              "      <td>1</td>\n",
              "    </tr>\n",
              "    <tr>\n",
              "      <th>1</th>\n",
              "      <td>107</td>\n",
              "      <td>324</td>\n",
              "      <td>1</td>\n",
              "    </tr>\n",
              "    <tr>\n",
              "      <th>2</th>\n",
              "      <td>104</td>\n",
              "      <td>316</td>\n",
              "      <td>0</td>\n",
              "    </tr>\n",
              "    <tr>\n",
              "      <th>3</th>\n",
              "      <td>110</td>\n",
              "      <td>322</td>\n",
              "      <td>1</td>\n",
              "    </tr>\n",
              "    <tr>\n",
              "      <th>4</th>\n",
              "      <td>103</td>\n",
              "      <td>314</td>\n",
              "      <td>0</td>\n",
              "    </tr>\n",
              "    <tr>\n",
              "      <th>...</th>\n",
              "      <td>...</td>\n",
              "      <td>...</td>\n",
              "      <td>...</td>\n",
              "    </tr>\n",
              "    <tr>\n",
              "      <th>395</th>\n",
              "      <td>110</td>\n",
              "      <td>324</td>\n",
              "      <td>1</td>\n",
              "    </tr>\n",
              "    <tr>\n",
              "      <th>396</th>\n",
              "      <td>107</td>\n",
              "      <td>325</td>\n",
              "      <td>1</td>\n",
              "    </tr>\n",
              "    <tr>\n",
              "      <th>397</th>\n",
              "      <td>116</td>\n",
              "      <td>330</td>\n",
              "      <td>1</td>\n",
              "    </tr>\n",
              "    <tr>\n",
              "      <th>398</th>\n",
              "      <td>103</td>\n",
              "      <td>312</td>\n",
              "      <td>0</td>\n",
              "    </tr>\n",
              "    <tr>\n",
              "      <th>399</th>\n",
              "      <td>117</td>\n",
              "      <td>333</td>\n",
              "      <td>1</td>\n",
              "    </tr>\n",
              "  </tbody>\n",
              "</table>\n",
              "<p>400 rows × 3 columns</p>\n",
              "</div>\n",
              "      <button class=\"colab-df-convert\" onclick=\"convertToInteractive('df-d36da429-8246-4337-87a0-8a86d2f5ef25')\"\n",
              "              title=\"Convert this dataframe to an interactive table.\"\n",
              "              style=\"display:none;\">\n",
              "        \n",
              "  <svg xmlns=\"http://www.w3.org/2000/svg\" height=\"24px\"viewBox=\"0 0 24 24\"\n",
              "       width=\"24px\">\n",
              "    <path d=\"M0 0h24v24H0V0z\" fill=\"none\"/>\n",
              "    <path d=\"M18.56 5.44l.94 2.06.94-2.06 2.06-.94-2.06-.94-.94-2.06-.94 2.06-2.06.94zm-11 1L8.5 8.5l.94-2.06 2.06-.94-2.06-.94L8.5 2.5l-.94 2.06-2.06.94zm10 10l.94 2.06.94-2.06 2.06-.94-2.06-.94-.94-2.06-.94 2.06-2.06.94z\"/><path d=\"M17.41 7.96l-1.37-1.37c-.4-.4-.92-.59-1.43-.59-.52 0-1.04.2-1.43.59L10.3 9.45l-7.72 7.72c-.78.78-.78 2.05 0 2.83L4 21.41c.39.39.9.59 1.41.59.51 0 1.02-.2 1.41-.59l7.78-7.78 2.81-2.81c.8-.78.8-2.07 0-2.86zM5.41 20L4 18.59l7.72-7.72 1.47 1.35L5.41 20z\"/>\n",
              "  </svg>\n",
              "      </button>\n",
              "      \n",
              "  <style>\n",
              "    .colab-df-container {\n",
              "      display:flex;\n",
              "      flex-wrap:wrap;\n",
              "      gap: 12px;\n",
              "    }\n",
              "\n",
              "    .colab-df-convert {\n",
              "      background-color: #E8F0FE;\n",
              "      border: none;\n",
              "      border-radius: 50%;\n",
              "      cursor: pointer;\n",
              "      display: none;\n",
              "      fill: #1967D2;\n",
              "      height: 32px;\n",
              "      padding: 0 0 0 0;\n",
              "      width: 32px;\n",
              "    }\n",
              "\n",
              "    .colab-df-convert:hover {\n",
              "      background-color: #E2EBFA;\n",
              "      box-shadow: 0px 1px 2px rgba(60, 64, 67, 0.3), 0px 1px 3px 1px rgba(60, 64, 67, 0.15);\n",
              "      fill: #174EA6;\n",
              "    }\n",
              "\n",
              "    [theme=dark] .colab-df-convert {\n",
              "      background-color: #3B4455;\n",
              "      fill: #D2E3FC;\n",
              "    }\n",
              "\n",
              "    [theme=dark] .colab-df-convert:hover {\n",
              "      background-color: #434B5C;\n",
              "      box-shadow: 0px 1px 3px 1px rgba(0, 0, 0, 0.15);\n",
              "      filter: drop-shadow(0px 1px 2px rgba(0, 0, 0, 0.3));\n",
              "      fill: #FFFFFF;\n",
              "    }\n",
              "  </style>\n",
              "\n",
              "      <script>\n",
              "        const buttonEl =\n",
              "          document.querySelector('#df-d36da429-8246-4337-87a0-8a86d2f5ef25 button.colab-df-convert');\n",
              "        buttonEl.style.display =\n",
              "          google.colab.kernel.accessAllowed ? 'block' : 'none';\n",
              "\n",
              "        async function convertToInteractive(key) {\n",
              "          const element = document.querySelector('#df-d36da429-8246-4337-87a0-8a86d2f5ef25');\n",
              "          const dataTable =\n",
              "            await google.colab.kernel.invokeFunction('convertToInteractive',\n",
              "                                                     [key], {});\n",
              "          if (!dataTable) return;\n",
              "\n",
              "          const docLinkHtml = 'Like what you see? Visit the ' +\n",
              "            '<a target=\"_blank\" href=https://colab.research.google.com/notebooks/data_table.ipynb>data table notebook</a>'\n",
              "            + ' to learn more about interactive tables.';\n",
              "          element.innerHTML = '';\n",
              "          dataTable['output_type'] = 'display_data';\n",
              "          await google.colab.output.renderOutput(dataTable, element);\n",
              "          const docLink = document.createElement('div');\n",
              "          docLink.innerHTML = docLinkHtml;\n",
              "          element.appendChild(docLink);\n",
              "        }\n",
              "      </script>\n",
              "    </div>\n",
              "  </div>\n",
              "  "
            ]
          },
          "metadata": {},
          "execution_count": 42
        }
      ]
    },
    {
      "cell_type": "markdown",
      "source": [
        "Podemos observar por medio de Kmeans, que las predicciones se han dividido en dos grandes grupos, entre más alto sea el resultado de sus examenes, mayores seran las probabilidades de ser admitido en una universidad\n",
        "\n",
        "Observemos ahora la inercia entre cada uno de los puntos de nuestors clusters"
      ],
      "metadata": {
        "id": "-sryCDEILXve"
      }
    },
    {
      "cell_type": "code",
      "source": [
        "\n",
        "inertias = []\n",
        "for k in range(2,11):  \n",
        "    kmeans = KMeans(n_clusters=k)  \n",
        "    kmeans.fit(scaled_df)  \n",
        "    inertias.append(kmeans.inertia_)\n",
        "plt.plot(range(2,11), inertias, marker = '.')\n",
        "plt.xlabel('clusters')\n",
        "plt.ylabel('inertia')\n"
      ],
      "metadata": {
        "colab": {
          "base_uri": "https://localhost:8080/",
          "height": 378
        },
        "id": "rrD3rTHmNv_V",
        "outputId": "e4d4ad93-c203-4523-a502-8c2884eaae39"
      },
      "execution_count": null,
      "outputs": [
        {
          "output_type": "execute_result",
          "data": {
            "text/plain": [
              "Text(0, 0.5, 'inertia')"
            ]
          },
          "metadata": {},
          "execution_count": 53
        },
        {
          "output_type": "display_data",
          "data": {
            "text/plain": [
              "<Figure size 576x396 with 1 Axes>"
            ],
            "image/png": "[encoded data removed]"
          },
          "metadata": {}
        }
      ]
    },
    {
      "cell_type": "markdown",
      "source": [
        "Podemos observar un balance ideal en tres clusteres, pero que nos dice la puntuación de siluetas para kmenas?"
      ],
      "metadata": {
        "id": "esnLtw18N-z_"
      }
    },
    {
      "cell_type": "code",
      "source": [
        "\n",
        "silhouette_scores = []\n",
        "for i in range(2, 11):\n",
        "  kmeans = KMeans(n_clusters = i)\n",
        "  kmeans.fit(scaled_df)\n",
        "  silhouette_scores.append(silhouette_score(scaled_df, kmeans.labels_))\n",
        "plt.plot(range(2, 11), silhouette_scores, marker = '.')\n",
        "plt.xlabel('Number of Clusters')\n",
        "plt.ylabel('Silhouette Score');\n",
        "\n"
      ],
      "metadata": {
        "colab": {
          "base_uri": "https://localhost:8080/",
          "height": 361
        },
        "id": "obmbj79GOfiu",
        "outputId": "59a54945-295e-402d-cca2-16771c357164"
      },
      "execution_count": null,
      "outputs": [
        {
          "output_type": "display_data",
          "data": {
            "text/plain": [
              "<Figure size 576x396 with 1 Axes>"
            ],
            "image/png": "[encoded data removed]"
          },
          "metadata": {}
        }
      ]
    },
    {
      "cell_type": "markdown",
      "source": [
        "para la puntuación de siluetas el mejor número de clusteres seria 2 mientras que inercia nos inica que seria 3 el número ideal de clusteres."
      ],
      "metadata": {
        "id": "AtL1NiDEPB_m"
      }
    },
    {
      "cell_type": "code",
      "source": [
        "# Fit 2 different KMeans models, one with 2 clusters and one with 3 clusters\n",
        "kmeans2 = KMeans(n_clusters = 2)\n",
        "kmeans3 = KMeans(n_clusters = 3)\n",
        "kmeans2.fit(scaled_df)\n",
        "kmeans3.fit(scaled_df)\n",
        "\n"
      ],
      "metadata": {
        "colab": {
          "base_uri": "https://localhost:8080/"
        },
        "id": "Jtjmu8OpP3ar",
        "outputId": "6e432f9c-1378-4651-d2ba-b6b8f9e99758"
      },
      "execution_count": null,
      "outputs": [
        {
          "output_type": "execute_result",
          "data": {
            "text/plain": [
              "KMeans(n_clusters=3)"
            ]
          },
          "metadata": {},
          "execution_count": 65
        }
      ]
    },
    {
      "cell_type": "code",
      "source": [
        "# Save the cluster labels to the dataframe \n",
        "df_kmeans['cluster2'] = kmeans2.labels_\n",
        "df_kmeans['cluster3'] = kmeans3.labels_\n",
        "# Visualize the clusters\n",
        "fig, axes = plt.subplots(2,1, figsize=(5,8))\n",
        "axes[0].scatter(df_kmeans['TOEFL Score'], df_kmeans['GRE Score'], c = df_kmeans['cluster2'])\n",
        "axes[0].set_xlabel('TOEFL Score')\n",
        "axes[0].set_ylabel('GRE Score')\n",
        "axes[0].set_title('KMeans 2 Clusters')\n",
        "axes[1].scatter(df_kmeans['TOEFL Score'], df_kmeans['GRE Score'], c = df_kmeans['cluster3'])\n",
        "axes[1].set_xlabel('TOEFL Score')\n",
        "axes[1].set_ylabel('GRE Score')\n",
        "axes[1].set_title('KMeans 3 Clusters')\n",
        "plt.tight_layout();\n",
        "\n"
      ],
      "metadata": {
        "colab": {
          "base_uri": "https://localhost:8080/",
          "height": 813
        },
        "id": "95SQ_iZSPw7F",
        "outputId": "3d9c36d0-1a99-401d-d73b-af2d12727561"
      },
      "execution_count": null,
      "outputs": [
        {
          "output_type": "stream",
          "name": "stderr",
          "text": [
            "<ipython-input-66-03116552cf37>:2: SettingWithCopyWarning: \n",
            "A value is trying to be set on a copy of a slice from a DataFrame.\n",
            "Try using .loc[row_indexer,col_indexer] = value instead\n",
            "\n",
            "See the caveats in the documentation: https://pandas.pydata.org/pandas-docs/stable/user_guide/indexing.html#returning-a-view-versus-a-copy\n",
            "  df_kmeans['cluster2'] = kmeans2.labels_\n",
            "<ipython-input-66-03116552cf37>:3: SettingWithCopyWarning: \n",
            "A value is trying to be set on a copy of a slice from a DataFrame.\n",
            "Try using .loc[row_indexer,col_indexer] = value instead\n",
            "\n",
            "See the caveats in the documentation: https://pandas.pydata.org/pandas-docs/stable/user_guide/indexing.html#returning-a-view-versus-a-copy\n",
            "  df_kmeans['cluster3'] = kmeans3.labels_\n"
          ]
        },
        {
          "output_type": "display_data",
          "data": {
            "text/plain": [
              "<Figure size 360x576 with 2 Axes>"
            ],
            "image/png": "[encoded data removed]"
          },
          "metadata": {}
        }
      ]
    },
    {
      "cell_type": "markdown",
      "source": [
        "**¿Qué resultado obtendríamos con un modelo de aprendizaje supervisado?**"
      ],
      "metadata": {
        "id": "DUENQf4nSBlU"
      }
    },
    {
      "cell_type": "markdown",
      "source": [
        "***Regresión linear***"
      ],
      "metadata": {
        "id": "rzaZ7hV7Sdb-"
      }
    },
    {
      "cell_type": "code",
      "source": [
        "from sklearn.model_selection import train_test_split"
      ],
      "metadata": {
        "id": "Otyh8nDRSknL"
      },
      "execution_count": null,
      "outputs": []
    },
    {
      "cell_type": "code",
      "source": [
        "df.head()"
      ],
      "metadata": {
        "colab": {
          "base_uri": "https://localhost:8080/",
          "height": 206
        },
        "id": "v5RptOmqSxIr",
        "outputId": "3356339e-94bb-485f-d96c-f7009f108058"
      },
      "execution_count": null,
      "outputs": [
        {
          "output_type": "execute_result",
          "data": {
            "text/plain": [
              "   Serial No.  GRE Score  TOEFL Score  University Rating  SOP  LOR   CGPA  \\\n",
              "0           1        337          118                  4  4.5   4.5  9.65   \n",
              "1           2        324          107                  4  4.0   4.5  8.87   \n",
              "2           3        316          104                  3  3.0   3.5  8.00   \n",
              "3           4        322          110                  3  3.5   2.5  8.67   \n",
              "4           5        314          103                  2  2.0   3.0  8.21   \n",
              "\n",
              "   Research  Chance of Admit   cluster  \n",
              "0         1              0.92        1  \n",
              "1         1              0.76        1  \n",
              "2         1              0.72        0  \n",
              "3         1              0.80        1  \n",
              "4         0              0.65        0  "
            ],
            "text/html": [
              "\n",
              "  <div id=\"df-a8f06ddc-ff63-44e8-9a10-8f4b5627321b\">\n",
              "    <div class=\"colab-df-container\">\n",
              "      <div>\n",
              "<style scoped>\n",
              "    .dataframe tbody tr th:only-of-type {\n",
              "        vertical-align: middle;\n",
              "    }\n",
              "\n",
              "    .dataframe tbody tr th {\n",
              "        vertical-align: top;\n",
              "    }\n",
              "\n",
              "    .dataframe thead th {\n",
              "        text-align: right;\n",
              "    }\n",
              "</style>\n",
              "<table border=\"1\" class=\"dataframe\">\n",
              "  <thead>\n",
              "    <tr style=\"text-align: right;\">\n",
              "      <th></th>\n",
              "      <th>Serial No.</th>\n",
              "      <th>GRE Score</th>\n",
              "      <th>TOEFL Score</th>\n",
              "      <th>University Rating</th>\n",
              "      <th>SOP</th>\n",
              "      <th>LOR</th>\n",
              "      <th>CGPA</th>\n",
              "      <th>Research</th>\n",
              "      <th>Chance of Admit</th>\n",
              "      <th>cluster</th>\n",
              "    </tr>\n",
              "  </thead>\n",
              "  <tbody>\n",
              "    <tr>\n",
              "      <th>0</th>\n",
              "      <td>1</td>\n",
              "      <td>337</td>\n",
              "      <td>118</td>\n",
              "      <td>4</td>\n",
              "      <td>4.5</td>\n",
              "      <td>4.5</td>\n",
              "      <td>9.65</td>\n",
              "      <td>1</td>\n",
              "      <td>0.92</td>\n",
              "      <td>1</td>\n",
              "    </tr>\n",
              "    <tr>\n",
              "      <th>1</th>\n",
              "      <td>2</td>\n",
              "      <td>324</td>\n",
              "      <td>107</td>\n",
              "      <td>4</td>\n",
              "      <td>4.0</td>\n",
              "      <td>4.5</td>\n",
              "      <td>8.87</td>\n",
              "      <td>1</td>\n",
              "      <td>0.76</td>\n",
              "      <td>1</td>\n",
              "    </tr>\n",
              "    <tr>\n",
              "      <th>2</th>\n",
              "      <td>3</td>\n",
              "      <td>316</td>\n",
              "      <td>104</td>\n",
              "      <td>3</td>\n",
              "      <td>3.0</td>\n",
              "      <td>3.5</td>\n",
              "      <td>8.00</td>\n",
              "      <td>1</td>\n",
              "      <td>0.72</td>\n",
              "      <td>0</td>\n",
              "    </tr>\n",
              "    <tr>\n",
              "      <th>3</th>\n",
              "      <td>4</td>\n",
              "      <td>322</td>\n",
              "      <td>110</td>\n",
              "      <td>3</td>\n",
              "      <td>3.5</td>\n",
              "      <td>2.5</td>\n",
              "      <td>8.67</td>\n",
              "      <td>1</td>\n",
              "      <td>0.80</td>\n",
              "      <td>1</td>\n",
              "    </tr>\n",
              "    <tr>\n",
              "      <th>4</th>\n",
              "      <td>5</td>\n",
              "      <td>314</td>\n",
              "      <td>103</td>\n",
              "      <td>2</td>\n",
              "      <td>2.0</td>\n",
              "      <td>3.0</td>\n",
              "      <td>8.21</td>\n",
              "      <td>0</td>\n",
              "      <td>0.65</td>\n",
              "      <td>0</td>\n",
              "    </tr>\n",
              "  </tbody>\n",
              "</table>\n",
              "</div>\n",
              "      <button class=\"colab-df-convert\" onclick=\"convertToInteractive('df-a8f06ddc-ff63-44e8-9a10-8f4b5627321b')\"\n",
              "              title=\"Convert this dataframe to an interactive table.\"\n",
              "              style=\"display:none;\">\n",
              "        \n",
              "  <svg xmlns=\"http://www.w3.org/2000/svg\" height=\"24px\"viewBox=\"0 0 24 24\"\n",
              "       width=\"24px\">\n",
              "    <path d=\"M0 0h24v24H0V0z\" fill=\"none\"/>\n",
              "    <path d=\"M18.56 5.44l.94 2.06.94-2.06 2.06-.94-2.06-.94-.94-2.06-.94 2.06-2.06.94zm-11 1L8.5 8.5l.94-2.06 2.06-.94-2.06-.94L8.5 2.5l-.94 2.06-2.06.94zm10 10l.94 2.06.94-2.06 2.06-.94-2.06-.94-.94-2.06-.94 2.06-2.06.94z\"/><path d=\"M17.41 7.96l-1.37-1.37c-.4-.4-.92-.59-1.43-.59-.52 0-1.04.2-1.43.59L10.3 9.45l-7.72 7.72c-.78.78-.78 2.05 0 2.83L4 21.41c.39.39.9.59 1.41.59.51 0 1.02-.2 1.41-.59l7.78-7.78 2.81-2.81c.8-.78.8-2.07 0-2.86zM5.41 20L4 18.59l7.72-7.72 1.47 1.35L5.41 20z\"/>\n",
              "  </svg>\n",
              "      </button>\n",
              "      \n",
              "  <style>\n",
              "    .colab-df-container {\n",
              "      display:flex;\n",
              "      flex-wrap:wrap;\n",
              "      gap: 12px;\n",
              "    }\n",
              "\n",
              "    .colab-df-convert {\n",
              "      background-color: #E8F0FE;\n",
              "      border: none;\n",
              "      border-radius: 50%;\n",
              "      cursor: pointer;\n",
              "      display: none;\n",
              "      fill: #1967D2;\n",
              "      height: 32px;\n",
              "      padding: 0 0 0 0;\n",
              "      width: 32px;\n",
              "    }\n",
              "\n",
              "    .colab-df-convert:hover {\n",
              "      background-color: #E2EBFA;\n",
              "      box-shadow: 0px 1px 2px rgba(60, 64, 67, 0.3), 0px 1px 3px 1px rgba(60, 64, 67, 0.15);\n",
              "      fill: #174EA6;\n",
              "    }\n",
              "\n",
              "    [theme=dark] .colab-df-convert {\n",
              "      background-color: #3B4455;\n",
              "      fill: #D2E3FC;\n",
              "    }\n",
              "\n",
              "    [theme=dark] .colab-df-convert:hover {\n",
              "      background-color: #434B5C;\n",
              "      box-shadow: 0px 1px 3px 1px rgba(0, 0, 0, 0.15);\n",
              "      filter: drop-shadow(0px 1px 2px rgba(0, 0, 0, 0.3));\n",
              "      fill: #FFFFFF;\n",
              "    }\n",
              "  </style>\n",
              "\n",
              "      <script>\n",
              "        const buttonEl =\n",
              "          document.querySelector('#df-a8f06ddc-ff63-44e8-9a10-8f4b5627321b button.colab-df-convert');\n",
              "        buttonEl.style.display =\n",
              "          google.colab.kernel.accessAllowed ? 'block' : 'none';\n",
              "\n",
              "        async function convertToInteractive(key) {\n",
              "          const element = document.querySelector('#df-a8f06ddc-ff63-44e8-9a10-8f4b5627321b');\n",
              "          const dataTable =\n",
              "            await google.colab.kernel.invokeFunction('convertToInteractive',\n",
              "                                                     [key], {});\n",
              "          if (!dataTable) return;\n",
              "\n",
              "          const docLinkHtml = 'Like what you see? Visit the ' +\n",
              "            '<a target=\"_blank\" href=https://colab.research.google.com/notebooks/data_table.ipynb>data table notebook</a>'\n",
              "            + ' to learn more about interactive tables.';\n",
              "          element.innerHTML = '';\n",
              "          dataTable['output_type'] = 'display_data';\n",
              "          await google.colab.output.renderOutput(dataTable, element);\n",
              "          const docLink = document.createElement('div');\n",
              "          docLink.innerHTML = docLinkHtml;\n",
              "          element.appendChild(docLink);\n",
              "        }\n",
              "      </script>\n",
              "    </div>\n",
              "  </div>\n",
              "  "
            ]
          },
          "metadata": {},
          "execution_count": 68
        }
      ]
    },
    {
      "cell_type": "code",
      "source": [
        "X = df.drop(columns=['Chance of Admit ','cluster'])\n",
        "y = df['Chance of Admit ']\n",
        "\n",
        "X_train, X_test, y_train, y_test = train_test_split(X, y, random_state = 42)"
      ],
      "metadata": {
        "id": "XVxUgEBDSnMr"
      },
      "execution_count": null,
      "outputs": []
    },
    {
      "cell_type": "markdown",
      "source": [
        "Ya tenemos nuestros datos separados para evitar una fuga de datos.\n"
      ],
      "metadata": {
        "id": "0mdnmJaFTF5z"
      }
    },
    {
      "cell_type": "code",
      "source": [
        "from sklearn.linear_model import LinearRegression\n",
        "reg = LinearRegression()"
      ],
      "metadata": {
        "id": "_rvddPbATNtk"
      },
      "execution_count": null,
      "outputs": []
    },
    {
      "cell_type": "code",
      "source": [
        "reg.fit(X_train,y_train)"
      ],
      "metadata": {
        "colab": {
          "base_uri": "https://localhost:8080/"
        },
        "id": "9rCLRQdTTVC7",
        "outputId": "cf05f567-d6b9-4b4b-e646-18fec73e0947"
      },
      "execution_count": null,
      "outputs": [
        {
          "output_type": "execute_result",
          "data": {
            "text/plain": [
              "LinearRegression()"
            ]
          },
          "metadata": {},
          "execution_count": 77
        }
      ]
    },
    {
      "cell_type": "code",
      "source": [
        "train_score = reg.score(X_train, y_train)\n",
        "print(train_score)\n"
      ],
      "metadata": {
        "colab": {
          "base_uri": "https://localhost:8080/"
        },
        "id": "hOQwaWD6To8c",
        "outputId": "451a1615-2c80-4503-d9f1-91c25ed57d9e"
      },
      "execution_count": null,
      "outputs": [
        {
          "output_type": "stream",
          "name": "stdout",
          "text": [
            "0.8156676664550951\n"
          ]
        }
      ]
    },
    {
      "cell_type": "code",
      "source": [
        "test_score = reg.score(X_test, y_test)\n",
        "print(test_score)\n"
      ],
      "metadata": {
        "colab": {
          "base_uri": "https://localhost:8080/"
        },
        "id": "4i6A4ESTTqSs",
        "outputId": "56aa8d9b-1f8e-41dd-a7d9-01b3a893600c"
      },
      "execution_count": null,
      "outputs": [
        {
          "output_type": "stream",
          "name": "stdout",
          "text": [
            "0.8214375975975612\n"
          ]
        }
      ]
    },
    {
      "cell_type": "markdown",
      "source": [
        "Podemos observar que los resultados de R^2 en nuestros datos de entrenamiento y prueba son de 0.81 y 0.82 respectivamente, lo cual nos indica que nuestros modelos no se encuentran sobreajustados\n",
        "\n",
        "Obtengamos sus predicciones"
      ],
      "metadata": {
        "id": "zvVk7SU9T5pM"
      }
    },
    {
      "cell_type": "code",
      "source": [
        "# Obtengan las predicciones del conjunto de entrenamiento\n",
        "train_preds = reg.predict(X_train)\n",
        "# Obtengan las predicciones del conjunto de prueba\n",
        "test_preds = reg.predict(X_test)\n",
        "\n",
        "print(f\"Predicciones de entrenamiento{train_preds}\")\n",
        "print(f\"Predicciones de prueba{test_preds}\")"
      ],
      "metadata": {
        "colab": {
          "base_uri": "https://localhost:8080/"
        },
        "id": "n7jvFk7_TyTz",
        "outputId": "1ddb09d7-f5b3-4430-8bb0-f633390a2869"
      },
      "execution_count": null,
      "outputs": [
        {
          "output_type": "stream",
          "name": "stdout",
          "text": [
            "Predicciones de entrenamiento[0.676019   0.67222154 0.68338    0.76820456 0.73545129 0.56852776\n",
            " 0.61547794 0.63156821 0.67859374 0.64426313 0.70788052 0.65761675\n",
            " 0.56744896 0.61964414 0.85337225 0.57886717 0.42293792 0.90512559\n",
            " 0.78953493 0.82942132 0.61566255 0.68916663 0.63656153 0.46452526\n",
            " 0.92462604 0.78932142 0.81442466 0.68052547 0.63707191 0.811456\n",
            " 0.85880984 0.72831149 0.80034115 0.76832466 0.77137054 0.72511579\n",
            " 0.80934926 0.68739497 0.80847954 0.84745093 0.62430308 0.74612291\n",
            " 0.56512365 0.70176138 0.62203787 0.9508807  0.59769063 0.76162482\n",
            " 0.7939757  0.66203035 0.6846296  0.75997097 0.79704314 0.88811163\n",
            " 0.70369528 0.83180734 0.67491672 0.93656558 0.56075234 0.75060206\n",
            " 0.57391267 0.62449058 0.91725042 0.56059485 0.62747798 0.7474518\n",
            " 0.51274273 0.68746382 0.81089493 0.74711386 0.5493456  0.83906648\n",
            " 0.64734892 0.5690938  0.97067163 0.58665944 0.8389215  0.66918504\n",
            " 0.7910584  0.92981287 0.51395286 0.78607151 0.64517314 0.56649112\n",
            " 0.70473063 0.69271357 0.67590893 0.67813088 0.57150583 0.69567503\n",
            " 0.65488193 0.66047652 0.84402858 0.67011611 0.75361858 0.72627885\n",
            " 0.96392332 0.55524562 0.77325846 0.72355761 0.74489694 0.98884382\n",
            " 0.79194402 0.8453457  0.7556581  0.91710802 0.48854616 0.80393267\n",
            " 0.87122759 0.85411915 0.79267692 0.66032147 0.62868325 0.55851053\n",
            " 0.72826785 0.50712589 0.5316387  0.69461789 0.98889092 0.87649884\n",
            " 0.94541471 0.82881201 0.94659935 0.67451431 0.75587162 0.73257584\n",
            " 0.64224244 0.86789049 0.6268529  0.67006735 0.77351444 0.89010478\n",
            " 0.89658165 0.74013235 0.93681492 0.63993378 0.61329843 0.81633818\n",
            " 0.55168395 0.73062866 0.68051539 0.72746672 0.73603398 0.69453427\n",
            " 0.47238146 0.86504074 0.7719211  0.91031604 0.79842409 0.72318391\n",
            " 0.7864846  0.7092409  0.67545557 0.58832124 0.85561547 0.54572117\n",
            " 0.76521033 0.69996921 0.79376864 0.73213203 0.52218107 0.81971098\n",
            " 0.8291396  0.40122821 0.63158867 0.8851021  0.77731637 0.48356081\n",
            " 0.73114777 0.55465248 0.59081202 0.53588104 0.88824908 0.6667256\n",
            " 0.63861123 0.62998365 0.76321158 0.59426363 0.84450693 0.6556498\n",
            " 0.59903125 0.68381442 0.59689051 0.71429789 0.69130886 0.80617362\n",
            " 0.96947236 0.88466769 0.88478812 0.91118897 0.59923583 0.91343189\n",
            " 0.89358853 0.69753071 0.70419238 0.81698104 0.49297308 0.8104239\n",
            " 0.7232809  0.84386677 0.79181489 0.69691319 0.65120886 0.80797047\n",
            " 0.61815134 0.75896388 0.80033175 0.51531623 0.72984611 0.62381581\n",
            " 0.61325526 0.6484462  0.63090918 0.75211676 0.62168134 0.86027894\n",
            " 0.69410604 0.54254449 0.86022883 0.65519893 0.97149099 0.67534151\n",
            " 0.77634103 0.71179171 0.65852197 0.87609164 0.76147854 0.72212368\n",
            " 0.71096503 0.49493431 0.82271718 0.82492286 0.84649876 0.72538369\n",
            " 0.92125059 0.76337466 0.68526898 0.76849781 0.74072286 0.62713888\n",
            " 0.52611579 0.9164809  0.75786076 0.53072293 0.80710826 0.71947136\n",
            " 0.54177872 0.76315643 0.62542539 0.62142304 0.63270133 0.64798806\n",
            " 0.59311303 0.6574572  0.81773034 0.7347236  0.87351904 0.82821585\n",
            " 0.65072156 0.80845848 0.82005663 0.64904702 0.65320001 0.80872013\n",
            " 0.86043965 0.94372389 0.91349487 0.58599121 0.42300263 0.77826283\n",
            " 0.4899877  0.86564506 0.7045663  0.68625916 0.61104131 0.5672388\n",
            " 0.91796081 0.83944896 0.64112172 0.64232625 0.76594058 0.71068886\n",
            " 0.65902712 0.94510392 0.90476522 0.68828596 0.78914225 0.96984115\n",
            " 0.64474441 0.79866636 0.92147282 0.9245175  0.96608734 0.59664779\n",
            " 0.88647115 0.93179498 0.84390765 0.66036412 0.4997226  0.64423276]\n",
            "Predicciones de prueba[0.65369681 0.73361721 0.90546877 0.82263778 0.55677949 0.91311087\n",
            " 0.53925533 0.52324868 0.66379259 0.82004265 0.68747969 0.93517052\n",
            " 0.53776797 0.86613612 0.69131964 0.65202352 0.67364344 0.51091175\n",
            " 0.69755051 1.00971418 0.55591954 0.62043591 0.73954347 0.53671241\n",
            " 0.91362463 0.83646774 0.67670178 0.56061975 0.68704391 0.79111957\n",
            " 0.83921079 0.9515423  0.66172241 0.48697808 0.6656085  0.64590241\n",
            " 0.70393087 0.67139282 0.60492596 0.8646953  0.77048009 0.58137017\n",
            " 0.75461513 0.93551714 0.83082929 0.8673249  0.93339028 0.63923076\n",
            " 0.89503907 0.85432498 0.87232089 0.75268348 0.81740101 0.93309374\n",
            " 0.6104402  0.57122599 0.69030459 0.83995966 0.56514545 0.84554456\n",
            " 0.64819283 0.66376682 0.71800517 0.4854405  0.6115397  0.69197536\n",
            " 0.64447089 0.85906256 0.89152459 0.7730469  0.74436187 0.79874724\n",
            " 0.84109971 0.80794639 0.54895204 0.72452852 0.6947044  0.61349627\n",
            " 0.88341506 0.76913196 0.71127275 0.70658675 0.99766039 0.71841489\n",
            " 0.59529248 0.68049385 0.8048925  0.73597713 0.90485705 0.64810784\n",
            " 0.60381108 0.86833427 0.48593108 0.71907638 0.61156088 0.65413028\n",
            " 0.76628117 0.79949926 0.53967417 0.75652803]\n"
          ]
        }
      ]
    },
    {
      "cell_type": "markdown",
      "source": [
        "En conclusión, pienso que para este tipo de datos, es más razonable utilizar el modelo de regresión linear para las predicciones, ya que como tal deseamos predecir las probabilidades de admision de un individuo en una universdiad y no a un conjunto en si. La problematica se podría abordar de una menera distinta si buscaramos clasificar esas probabilidades en grupos, pero este no es el caso."
      ],
      "metadata": {
        "id": "rR1PBtemU59i"
      }
    },
    {
      "cell_type": "markdown",
      "source": [
        "**Modelo de Regresión para las predicciones**"
      ],
      "metadata": {
        "id": "MD_Sod6jor7-"
      }
    },
    {
      "cell_type": "code",
      "source": [
        "y = df['Chance of Admit ']\n",
        "X =df.drop(columns = 'Chance of Admit ')\n"
      ],
      "metadata": {
        "id": "JbdNFqI3o2My"
      },
      "execution_count": null,
      "outputs": []
    },
    {
      "cell_type": "code",
      "source": [
        "from sklearn.model_selection import train_test_split\n",
        "X_train, X_test, y_train, y_test = train_test_split(X, y, random_state = 42)"
      ],
      "metadata": {
        "id": "krWCYW0dpDqw"
      },
      "execution_count": null,
      "outputs": []
    },
    {
      "cell_type": "code",
      "source": [
        "from sklearn.linear_model import LinearRegression"
      ],
      "metadata": {
        "id": "ip5CJ-obpDkv"
      },
      "execution_count": null,
      "outputs": []
    },
    {
      "cell_type": "code",
      "source": [
        "reg = LinearRegression()"
      ],
      "metadata": {
        "id": "OeMMpasqpNYu"
      },
      "execution_count": null,
      "outputs": []
    },
    {
      "cell_type": "code",
      "source": [
        "reg.fit(X_train,y_train)"
      ],
      "metadata": {
        "colab": {
          "base_uri": "https://localhost:8080/"
        },
        "id": "f8z-_N9qpRPN",
        "outputId": "e500043c-8461-4f2d-9bc3-f175efbf321a"
      },
      "execution_count": null,
      "outputs": [
        {
          "output_type": "execute_result",
          "data": {
            "text/plain": [
              "LinearRegression()"
            ]
          },
          "metadata": {},
          "execution_count": 19
        }
      ]
    },
    {
      "cell_type": "code",
      "source": [
        "# coeficiente de determinación del modelo\n",
        "train_score = reg.score(X_train, y_train)\n",
        "test_score = reg.score(X_test, y_test)\n",
        "print(f\"Coeficiente de determinación en los datos de entrenamiento{train_score}\")\n",
        "print(f\"Coeficiente de determinación en los datos de entrenamiento{test_score}\")\n"
      ],
      "metadata": {
        "colab": {
          "base_uri": "https://localhost:8080/"
        },
        "id": "uhRwdbLGpccm",
        "outputId": "310c2be0-c988-46c5-fb6a-7141b0df25d0"
      },
      "execution_count": null,
      "outputs": [
        {
          "output_type": "stream",
          "name": "stdout",
          "text": [
            "Coeficiente de determinación en los datos de entrenamiento0.8156676664550951\n",
            "Coeficiente de determinación en los datos de entrenamiento0.8214375975975612\n"
          ]
        }
      ]
    },
    {
      "cell_type": "code",
      "source": [],
      "metadata": {
        "colab": {
          "base_uri": "https://localhost:8080/"
        },
        "id": "dAnltTF1prlt",
        "outputId": "0a000c7f-5cd5-4020-bcd1-6f44e84ba34f"
      },
      "execution_count": null,
      "outputs": [
        {
          "output_type": "stream",
          "name": "stdout",
          "text": [
            "0.8214375975975612\n"
          ]
        }
      ]
    },
    {
      "cell_type": "code",
      "source": [
        "# obtencion de predicciones\n",
        "# Obtengan las predicciones del conjunto de entrenamiento\n",
        "train_preds = reg.predict(X_train)\n",
        "# Obtengan las predicciones del conjunto de prueba\n",
        "test_preds = reg.predict(X_test)\n",
        "\n",
        "print(train_preds)\n",
        "print('')\n",
        "print(test_preds)"
      ],
      "metadata": {
        "colab": {
          "base_uri": "https://localhost:8080/"
        },
        "id": "wZ2v2AMHpveV",
        "outputId": "7ca99521-4deb-4e9a-c56e-9919dffed64d"
      },
      "execution_count": null,
      "outputs": [
        {
          "output_type": "stream",
          "name": "stdout",
          "text": [
            "[0.676019   0.67222154 0.68338    0.76820456 0.73545129 0.56852776\n",
            " 0.61547794 0.63156821 0.67859374 0.64426313 0.70788052 0.65761675\n",
            " 0.56744896 0.61964414 0.85337225 0.57886717 0.42293792 0.90512559\n",
            " 0.78953493 0.82942132 0.61566255 0.68916663 0.63656153 0.46452526\n",
            " 0.92462604 0.78932142 0.81442466 0.68052547 0.63707191 0.811456\n",
            " 0.85880984 0.72831149 0.80034115 0.76832466 0.77137054 0.72511579\n",
            " 0.80934926 0.68739497 0.80847954 0.84745093 0.62430308 0.74612291\n",
            " 0.56512365 0.70176138 0.62203787 0.9508807  0.59769063 0.76162482\n",
            " 0.7939757  0.66203035 0.6846296  0.75997097 0.79704314 0.88811163\n",
            " 0.70369528 0.83180734 0.67491672 0.93656558 0.56075234 0.75060206\n",
            " 0.57391267 0.62449058 0.91725042 0.56059485 0.62747798 0.7474518\n",
            " 0.51274273 0.68746382 0.81089493 0.74711386 0.5493456  0.83906648\n",
            " 0.64734892 0.5690938  0.97067163 0.58665944 0.8389215  0.66918504\n",
            " 0.7910584  0.92981287 0.51395286 0.78607151 0.64517314 0.56649112\n",
            " 0.70473063 0.69271357 0.67590893 0.67813088 0.57150583 0.69567503\n",
            " 0.65488193 0.66047652 0.84402858 0.67011611 0.75361858 0.72627885\n",
            " 0.96392332 0.55524562 0.77325846 0.72355761 0.74489694 0.98884382\n",
            " 0.79194402 0.8453457  0.7556581  0.91710802 0.48854616 0.80393267\n",
            " 0.87122759 0.85411915 0.79267692 0.66032147 0.62868325 0.55851053\n",
            " 0.72826785 0.50712589 0.5316387  0.69461789 0.98889092 0.87649884\n",
            " 0.94541471 0.82881201 0.94659935 0.67451431 0.75587162 0.73257584\n",
            " 0.64224244 0.86789049 0.6268529  0.67006735 0.77351444 0.89010478\n",
            " 0.89658165 0.74013235 0.93681492 0.63993378 0.61329843 0.81633818\n",
            " 0.55168395 0.73062866 0.68051539 0.72746672 0.73603398 0.69453427\n",
            " 0.47238146 0.86504074 0.7719211  0.91031604 0.79842409 0.72318391\n",
            " 0.7864846  0.7092409  0.67545557 0.58832124 0.85561547 0.54572117\n",
            " 0.76521033 0.69996921 0.79376864 0.73213203 0.52218107 0.81971098\n",
            " 0.8291396  0.40122821 0.63158867 0.8851021  0.77731637 0.48356081\n",
            " 0.73114777 0.55465248 0.59081202 0.53588104 0.88824908 0.6667256\n",
            " 0.63861123 0.62998365 0.76321158 0.59426363 0.84450693 0.6556498\n",
            " 0.59903125 0.68381442 0.59689051 0.71429789 0.69130886 0.80617362\n",
            " 0.96947236 0.88466769 0.88478812 0.91118897 0.59923583 0.91343189\n",
            " 0.89358853 0.69753071 0.70419238 0.81698104 0.49297308 0.8104239\n",
            " 0.7232809  0.84386677 0.79181489 0.69691319 0.65120886 0.80797047\n",
            " 0.61815134 0.75896388 0.80033175 0.51531623 0.72984611 0.62381581\n",
            " 0.61325526 0.6484462  0.63090918 0.75211676 0.62168134 0.86027894\n",
            " 0.69410604 0.54254449 0.86022883 0.65519893 0.97149099 0.67534151\n",
            " 0.77634103 0.71179171 0.65852197 0.87609164 0.76147854 0.72212368\n",
            " 0.71096503 0.49493431 0.82271718 0.82492286 0.84649876 0.72538369\n",
            " 0.92125059 0.76337466 0.68526898 0.76849781 0.74072286 0.62713888\n",
            " 0.52611579 0.9164809  0.75786076 0.53072293 0.80710826 0.71947136\n",
            " 0.54177872 0.76315643 0.62542539 0.62142304 0.63270133 0.64798806\n",
            " 0.59311303 0.6574572  0.81773034 0.7347236  0.87351904 0.82821585\n",
            " 0.65072156 0.80845848 0.82005663 0.64904702 0.65320001 0.80872013\n",
            " 0.86043965 0.94372389 0.91349487 0.58599121 0.42300263 0.77826283\n",
            " 0.4899877  0.86564506 0.7045663  0.68625916 0.61104131 0.5672388\n",
            " 0.91796081 0.83944896 0.64112172 0.64232625 0.76594058 0.71068886\n",
            " 0.65902712 0.94510392 0.90476522 0.68828596 0.78914225 0.96984115\n",
            " 0.64474441 0.79866636 0.92147282 0.9245175  0.96608734 0.59664779\n",
            " 0.88647115 0.93179498 0.84390765 0.66036412 0.4997226  0.64423276]\n",
            "\n",
            "[0.65369681 0.73361721 0.90546877 0.82263778 0.55677949 0.91311087\n",
            " 0.53925533 0.52324868 0.66379259 0.82004265 0.68747969 0.93517052\n",
            " 0.53776797 0.86613612 0.69131964 0.65202352 0.67364344 0.51091175\n",
            " 0.69755051 1.00971418 0.55591954 0.62043591 0.73954347 0.53671241\n",
            " 0.91362463 0.83646774 0.67670178 0.56061975 0.68704391 0.79111957\n",
            " 0.83921079 0.9515423  0.66172241 0.48697808 0.6656085  0.64590241\n",
            " 0.70393087 0.67139282 0.60492596 0.8646953  0.77048009 0.58137017\n",
            " 0.75461513 0.93551714 0.83082929 0.8673249  0.93339028 0.63923076\n",
            " 0.89503907 0.85432498 0.87232089 0.75268348 0.81740101 0.93309374\n",
            " 0.6104402  0.57122599 0.69030459 0.83995966 0.56514545 0.84554456\n",
            " 0.64819283 0.66376682 0.71800517 0.4854405  0.6115397  0.69197536\n",
            " 0.64447089 0.85906256 0.89152459 0.7730469  0.74436187 0.79874724\n",
            " 0.84109971 0.80794639 0.54895204 0.72452852 0.6947044  0.61349627\n",
            " 0.88341506 0.76913196 0.71127275 0.70658675 0.99766039 0.71841489\n",
            " 0.59529248 0.68049385 0.8048925  0.73597713 0.90485705 0.64810784\n",
            " 0.60381108 0.86833427 0.48593108 0.71907638 0.61156088 0.65413028\n",
            " 0.76628117 0.79949926 0.53967417 0.75652803]\n"
          ]
        }
      ]
    },
    {
      "cell_type": "code",
      "source": [
        "from sklearn.metrics import r2_score\n",
        "from sklearn.metrics import mean_absolute_error\n",
        "from sklearn.metrics import mean_squared_error"
      ],
      "metadata": {
        "id": "N8jx7LHGzAuB"
      },
      "execution_count": null,
      "outputs": []
    },
    {
      "cell_type": "code",
      "source": [
        "r2_train = r2_score(y_train, train_preds)\n",
        "r2_test = r2_score(y_test, test_preds)\n",
        "print(r2_train)\n",
        "print(r2_test)"
      ],
      "metadata": {
        "colab": {
          "base_uri": "https://localhost:8080/"
        },
        "id": "k0KEENO4zYoS",
        "outputId": "69976c8f-ec71-487e-f5bc-deb5de330bfa"
      },
      "execution_count": null,
      "outputs": [
        {
          "output_type": "stream",
          "name": "stdout",
          "text": [
            "0.8156676664550951\n",
            "0.8214375975975612\n"
          ]
        }
      ]
    },
    {
      "cell_type": "code",
      "source": [
        "mae_train = mean_absolute_error(y_train, train_preds)\n",
        "mae_test = mean_absolute_error(y_test, test_preds)\n",
        "print(mae_train)\n",
        "print(mae_test)\n"
      ],
      "metadata": {
        "colab": {
          "base_uri": "https://localhost:8080/"
        },
        "id": "wCShhrZrzjFQ",
        "outputId": "56836633-3508-4c57-a2a5-3ab8834072f8"
      },
      "execution_count": null,
      "outputs": [
        {
          "output_type": "stream",
          "name": "stdout",
          "text": [
            "0.043500826838831066\n",
            "0.04798933743484696\n"
          ]
        }
      ]
    },
    {
      "cell_type": "code",
      "source": [
        "mse_train = mean_squared_error(y_train, train_preds)\n",
        "mse_test = mean_squared_error(y_test, test_preds)\n",
        "print(mse_train)\n",
        "print(mse_test)\n"
      ],
      "metadata": {
        "colab": {
          "base_uri": "https://localhost:8080/"
        },
        "id": "G10o5rQAzwYZ",
        "outputId": "939b7709-9040-458d-deac-be667df66848"
      },
      "execution_count": null,
      "outputs": [
        {
          "output_type": "stream",
          "name": "stdout",
          "text": [
            "0.0035332434595986917\n",
            "0.004215177997968427\n"
          ]
        }
      ]
    },
    {
      "cell_type": "code",
      "source": [
        "rmse_train = np.sqrt(mean_squared_error(y_train, train_preds))\n",
        "rmse_test = np.sqrt(mean_squared_error(y_test, test_preds))\n",
        "print(rmse_train)\n",
        "print(rmse_test)\n"
      ],
      "metadata": {
        "colab": {
          "base_uri": "https://localhost:8080/"
        },
        "id": "QrSzWZo1z3kN",
        "outputId": "0bf7a266-5627-4b53-ae8c-a49a46d443a4"
      },
      "execution_count": null,
      "outputs": [
        {
          "output_type": "stream",
          "name": "stdout",
          "text": [
            "0.05944109234863279\n",
            "0.06492440217644231\n"
          ]
        }
      ]
    },
    {
      "cell_type": "markdown",
      "source": [
        "# Bosques aleatorios para nuestro problema de regresión"
      ],
      "metadata": {
        "id": "Y1A_nsqO1CYE"
      }
    },
    {
      "cell_type": "code",
      "source": [
        "from sklearn.ensemble import RandomForestRegressor"
      ],
      "metadata": {
        "id": "Sq2JVeTA1HJL"
      },
      "execution_count": null,
      "outputs": []
    },
    {
      "cell_type": "code",
      "source": [
        "rf = RandomForestRegressor(random_state = 42)\n",
        "\n"
      ],
      "metadata": {
        "id": "3kgK-gMT1QFY"
      },
      "execution_count": null,
      "outputs": []
    },
    {
      "cell_type": "code",
      "source": [
        "rf.fit(X_train, y_train)\n",
        "\n"
      ],
      "metadata": {
        "colab": {
          "base_uri": "https://localhost:8080/"
        },
        "id": "1I1sCija1VQg",
        "outputId": "c1d20ca9-c7f8-4bf3-edc0-6dda98102915"
      },
      "execution_count": null,
      "outputs": [
        {
          "output_type": "execute_result",
          "data": {
            "text/plain": [
              "RandomForestRegressor(random_state=42)"
            ]
          },
          "metadata": {},
          "execution_count": 44
        }
      ]
    },
    {
      "cell_type": "code",
      "source": [
        "rf.predict(X_test)\n"
      ],
      "metadata": {
        "colab": {
          "base_uri": "https://localhost:8080/"
        },
        "id": "Byh129tB1b_4",
        "outputId": "1a47466a-cfae-4d4f-b2d8-4079ab43a6ea"
      },
      "execution_count": null,
      "outputs": [
        {
          "output_type": "execute_result",
          "data": {
            "text/plain": [
              "array([0.6672, 0.7443, 0.9394, 0.8246, 0.4858, 0.9158, 0.6069, 0.4534,\n",
              "       0.6939, 0.902 , 0.6386, 0.9401, 0.5202, 0.9046, 0.7243, 0.5761,\n",
              "       0.7036, 0.4946, 0.725 , 0.9576, 0.5616, 0.6138, 0.7242, 0.5247,\n",
              "       0.9456, 0.8128, 0.6434, 0.6174, 0.7119, 0.7603, 0.7986, 0.9447,\n",
              "       0.6623, 0.4227, 0.6978, 0.6395, 0.6644, 0.7046, 0.651 , 0.9174,\n",
              "       0.7593, 0.6087, 0.6684, 0.947 , 0.8627, 0.8337, 0.9627, 0.6827,\n",
              "       0.9308, 0.8922, 0.905 , 0.7278, 0.794 , 0.9453, 0.5559, 0.5835,\n",
              "       0.6922, 0.8514, 0.5034, 0.8666, 0.62  , 0.6817, 0.7102, 0.4343,\n",
              "       0.5791, 0.6647, 0.6255, 0.8508, 0.8851, 0.7448, 0.7289, 0.8164,\n",
              "       0.9159, 0.8455, 0.5073, 0.7396, 0.6944, 0.5572, 0.8606, 0.7748,\n",
              "       0.6803, 0.7039, 0.9648, 0.7193, 0.5865, 0.6213, 0.779 , 0.7471,\n",
              "       0.922 , 0.6567, 0.6369, 0.8415, 0.4772, 0.7357, 0.6534, 0.6428,\n",
              "       0.7371, 0.7768, 0.5398, 0.655 ])"
            ]
          },
          "metadata": {},
          "execution_count": 45
        }
      ]
    },
    {
      "cell_type": "code",
      "source": [
        "rf_train_score = rf.score(X_train, y_train)\n",
        "rf_test_score = rf.score(X_test, y_test)\n",
        "print(f\"Coeficiente de determinación en datos de entrenamiento {rf_train_score}\")\n",
        "print(f\"Coeficiente de determinación en datos de prueba {rf_test_score}\")\n",
        "\n"
      ],
      "metadata": {
        "colab": {
          "base_uri": "https://localhost:8080/"
        },
        "id": "Vwsdcm-R1hUv",
        "outputId": "68dbf19f-1487-4e14-b703-ed814dadb96e"
      },
      "execution_count": null,
      "outputs": [
        {
          "output_type": "stream",
          "name": "stdout",
          "text": [
            "Coeficiente de determinación en datos de entrenamiento 0.972385583662314\n",
            "Coeficiente de determinación en datos de prueba 0.850049165070687\n"
          ]
        }
      ]
    },
    {
      "cell_type": "code",
      "source": [
        "[estimator.get_depth() for estimator in rf.estimators_]\n"
      ],
      "metadata": {
        "id": "HJOLgmEU3vT_"
      },
      "execution_count": null,
      "outputs": []
    },
    {
      "cell_type": "code",
      "source": [
        "# Intenten 200 árboles\n",
        "rf_200 = RandomForestRegressor(n_estimators = 16,max_depth=3, random_state = 42)\n",
        "# Ajusten el modelo\n",
        "rf_200.fit(X_train, y_train)\n",
        "# Obtengan las puntuaciones\n",
        "rf_200_train_score = rf_200.score(X_train, y_train)\n",
        "rf_200_test_score = rf_200.score(X_test, y_test)\n",
        "print(f\"Coeficiente de determinación en datos de entrenamiento {rf_200_train_score}\")\n",
        "print(f\"Coeficiente de determinación en datos de prueba {rf_200_test_score}\")"
      ],
      "metadata": {
        "colab": {
          "base_uri": "https://localhost:8080/"
        },
        "id": "uCskARx8375Y",
        "outputId": "78124061-ed2a-42e5-9f3e-b6e00ec52d42"
      },
      "execution_count": null,
      "outputs": [
        {
          "output_type": "stream",
          "name": "stdout",
          "text": [
            "Coeficiente de determinación en datos de entrenamiento 0.8285135561827874\n",
            "Coeficiente de determinación en datos de prueba 0.8163680605923755\n"
          ]
        }
      ]
    }
  ]
}